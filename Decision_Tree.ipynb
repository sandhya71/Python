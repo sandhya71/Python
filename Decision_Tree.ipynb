{
  "nbformat": 4,
  "nbformat_minor": 0,
  "metadata": {
    "colab": {
      "provenance": []
    },
    "kernelspec": {
      "name": "python3",
      "display_name": "Python 3"
    }
  },
  "cells": [
    {
      "cell_type": "code",
      "metadata": {
        "id": "to5eOXRU5NVa"
      },
      "source": [
        "import numpy as np"
      ],
      "execution_count": null,
      "outputs": []
    },
    {
      "cell_type": "code",
      "metadata": {
        "id": "0c81eUeV9S5o"
      },
      "source": [
        "from sklearn.datasets import load_iris\n",
        "X, y = load_iris(return_X_y=True)"
      ],
      "execution_count": null,
      "outputs": []
    },
    {
      "cell_type": "code",
      "metadata": {
        "id": "MBmtXKr39dno"
      },
      "source": [
        "from sklearn.model_selection import train_test_split\n",
        "x_train, x_test, y_train, y_test = train_test_split(X,y, test_size=0.3, random_state=42)"
      ],
      "execution_count": null,
      "outputs": []
    },
    {
      "cell_type": "code",
      "metadata": {
        "id": "I48FLUKZ-IOI",
        "outputId": "ea94c672-d70a-4241-ac20-b6432dbe711e",
        "colab": {
          "base_uri": "https://localhost:8080/",
          "height": 1000
        }
      },
      "source": [
        "print('F matrix',X)"
      ],
      "execution_count": null,
      "outputs": [
        {
          "output_type": "stream",
          "text": [
            "F matrix [[5.1 3.5 1.4 0.2]\n",
            " [4.9 3.  1.4 0.2]\n",
            " [4.7 3.2 1.3 0.2]\n",
            " [4.6 3.1 1.5 0.2]\n",
            " [5.  3.6 1.4 0.2]\n",
            " [5.4 3.9 1.7 0.4]\n",
            " [4.6 3.4 1.4 0.3]\n",
            " [5.  3.4 1.5 0.2]\n",
            " [4.4 2.9 1.4 0.2]\n",
            " [4.9 3.1 1.5 0.1]\n",
            " [5.4 3.7 1.5 0.2]\n",
            " [4.8 3.4 1.6 0.2]\n",
            " [4.8 3.  1.4 0.1]\n",
            " [4.3 3.  1.1 0.1]\n",
            " [5.8 4.  1.2 0.2]\n",
            " [5.7 4.4 1.5 0.4]\n",
            " [5.4 3.9 1.3 0.4]\n",
            " [5.1 3.5 1.4 0.3]\n",
            " [5.7 3.8 1.7 0.3]\n",
            " [5.1 3.8 1.5 0.3]\n",
            " [5.4 3.4 1.7 0.2]\n",
            " [5.1 3.7 1.5 0.4]\n",
            " [4.6 3.6 1.  0.2]\n",
            " [5.1 3.3 1.7 0.5]\n",
            " [4.8 3.4 1.9 0.2]\n",
            " [5.  3.  1.6 0.2]\n",
            " [5.  3.4 1.6 0.4]\n",
            " [5.2 3.5 1.5 0.2]\n",
            " [5.2 3.4 1.4 0.2]\n",
            " [4.7 3.2 1.6 0.2]\n",
            " [4.8 3.1 1.6 0.2]\n",
            " [5.4 3.4 1.5 0.4]\n",
            " [5.2 4.1 1.5 0.1]\n",
            " [5.5 4.2 1.4 0.2]\n",
            " [4.9 3.1 1.5 0.2]\n",
            " [5.  3.2 1.2 0.2]\n",
            " [5.5 3.5 1.3 0.2]\n",
            " [4.9 3.6 1.4 0.1]\n",
            " [4.4 3.  1.3 0.2]\n",
            " [5.1 3.4 1.5 0.2]\n",
            " [5.  3.5 1.3 0.3]\n",
            " [4.5 2.3 1.3 0.3]\n",
            " [4.4 3.2 1.3 0.2]\n",
            " [5.  3.5 1.6 0.6]\n",
            " [5.1 3.8 1.9 0.4]\n",
            " [4.8 3.  1.4 0.3]\n",
            " [5.1 3.8 1.6 0.2]\n",
            " [4.6 3.2 1.4 0.2]\n",
            " [5.3 3.7 1.5 0.2]\n",
            " [5.  3.3 1.4 0.2]\n",
            " [7.  3.2 4.7 1.4]\n",
            " [6.4 3.2 4.5 1.5]\n",
            " [6.9 3.1 4.9 1.5]\n",
            " [5.5 2.3 4.  1.3]\n",
            " [6.5 2.8 4.6 1.5]\n",
            " [5.7 2.8 4.5 1.3]\n",
            " [6.3 3.3 4.7 1.6]\n",
            " [4.9 2.4 3.3 1. ]\n",
            " [6.6 2.9 4.6 1.3]\n",
            " [5.2 2.7 3.9 1.4]\n",
            " [5.  2.  3.5 1. ]\n",
            " [5.9 3.  4.2 1.5]\n",
            " [6.  2.2 4.  1. ]\n",
            " [6.1 2.9 4.7 1.4]\n",
            " [5.6 2.9 3.6 1.3]\n",
            " [6.7 3.1 4.4 1.4]\n",
            " [5.6 3.  4.5 1.5]\n",
            " [5.8 2.7 4.1 1. ]\n",
            " [6.2 2.2 4.5 1.5]\n",
            " [5.6 2.5 3.9 1.1]\n",
            " [5.9 3.2 4.8 1.8]\n",
            " [6.1 2.8 4.  1.3]\n",
            " [6.3 2.5 4.9 1.5]\n",
            " [6.1 2.8 4.7 1.2]\n",
            " [6.4 2.9 4.3 1.3]\n",
            " [6.6 3.  4.4 1.4]\n",
            " [6.8 2.8 4.8 1.4]\n",
            " [6.7 3.  5.  1.7]\n",
            " [6.  2.9 4.5 1.5]\n",
            " [5.7 2.6 3.5 1. ]\n",
            " [5.5 2.4 3.8 1.1]\n",
            " [5.5 2.4 3.7 1. ]\n",
            " [5.8 2.7 3.9 1.2]\n",
            " [6.  2.7 5.1 1.6]\n",
            " [5.4 3.  4.5 1.5]\n",
            " [6.  3.4 4.5 1.6]\n",
            " [6.7 3.1 4.7 1.5]\n",
            " [6.3 2.3 4.4 1.3]\n",
            " [5.6 3.  4.1 1.3]\n",
            " [5.5 2.5 4.  1.3]\n",
            " [5.5 2.6 4.4 1.2]\n",
            " [6.1 3.  4.6 1.4]\n",
            " [5.8 2.6 4.  1.2]\n",
            " [5.  2.3 3.3 1. ]\n",
            " [5.6 2.7 4.2 1.3]\n",
            " [5.7 3.  4.2 1.2]\n",
            " [5.7 2.9 4.2 1.3]\n",
            " [6.2 2.9 4.3 1.3]\n",
            " [5.1 2.5 3.  1.1]\n",
            " [5.7 2.8 4.1 1.3]\n",
            " [6.3 3.3 6.  2.5]\n",
            " [5.8 2.7 5.1 1.9]\n",
            " [7.1 3.  5.9 2.1]\n",
            " [6.3 2.9 5.6 1.8]\n",
            " [6.5 3.  5.8 2.2]\n",
            " [7.6 3.  6.6 2.1]\n",
            " [4.9 2.5 4.5 1.7]\n",
            " [7.3 2.9 6.3 1.8]\n",
            " [6.7 2.5 5.8 1.8]\n",
            " [7.2 3.6 6.1 2.5]\n",
            " [6.5 3.2 5.1 2. ]\n",
            " [6.4 2.7 5.3 1.9]\n",
            " [6.8 3.  5.5 2.1]\n",
            " [5.7 2.5 5.  2. ]\n",
            " [5.8 2.8 5.1 2.4]\n",
            " [6.4 3.2 5.3 2.3]\n",
            " [6.5 3.  5.5 1.8]\n",
            " [7.7 3.8 6.7 2.2]\n",
            " [7.7 2.6 6.9 2.3]\n",
            " [6.  2.2 5.  1.5]\n",
            " [6.9 3.2 5.7 2.3]\n",
            " [5.6 2.8 4.9 2. ]\n",
            " [7.7 2.8 6.7 2. ]\n",
            " [6.3 2.7 4.9 1.8]\n",
            " [6.7 3.3 5.7 2.1]\n",
            " [7.2 3.2 6.  1.8]\n",
            " [6.2 2.8 4.8 1.8]\n",
            " [6.1 3.  4.9 1.8]\n",
            " [6.4 2.8 5.6 2.1]\n",
            " [7.2 3.  5.8 1.6]\n",
            " [7.4 2.8 6.1 1.9]\n",
            " [7.9 3.8 6.4 2. ]\n",
            " [6.4 2.8 5.6 2.2]\n",
            " [6.3 2.8 5.1 1.5]\n",
            " [6.1 2.6 5.6 1.4]\n",
            " [7.7 3.  6.1 2.3]\n",
            " [6.3 3.4 5.6 2.4]\n",
            " [6.4 3.1 5.5 1.8]\n",
            " [6.  3.  4.8 1.8]\n",
            " [6.9 3.1 5.4 2.1]\n",
            " [6.7 3.1 5.6 2.4]\n",
            " [6.9 3.1 5.1 2.3]\n",
            " [5.8 2.7 5.1 1.9]\n",
            " [6.8 3.2 5.9 2.3]\n",
            " [6.7 3.3 5.7 2.5]\n",
            " [6.7 3.  5.2 2.3]\n",
            " [6.3 2.5 5.  1.9]\n",
            " [6.5 3.  5.2 2. ]\n",
            " [6.2 3.4 5.4 2.3]\n",
            " [5.9 3.  5.1 1.8]]\n"
          ],
          "name": "stdout"
        }
      ]
    },
    {
      "cell_type": "code",
      "metadata": {
        "id": "18wSi9Y3-P5R",
        "outputId": "ed0b2f2c-5cd3-4287-b497-3f52b2435736",
        "colab": {
          "base_uri": "https://localhost:8080/",
          "height": 34
        }
      },
      "source": [
        "np.shape(X)"
      ],
      "execution_count": null,
      "outputs": [
        {
          "output_type": "execute_result",
          "data": {
            "text/plain": [
              "(150, 4)"
            ]
          },
          "metadata": {
            "tags": []
          },
          "execution_count": 67
        }
      ]
    },
    {
      "cell_type": "code",
      "metadata": {
        "id": "_BEu_VnB-aDc",
        "outputId": "f4eb7d09-e0fb-463c-eade-bdd96b7aa70c",
        "colab": {
          "base_uri": "https://localhost:8080/",
          "height": 121
        }
      },
      "source": [
        "print(y)\n",
        "np.shape(y)"
      ],
      "execution_count": null,
      "outputs": [
        {
          "output_type": "stream",
          "text": [
            "[0 0 0 0 0 0 0 0 0 0 0 0 0 0 0 0 0 0 0 0 0 0 0 0 0 0 0 0 0 0 0 0 0 0 0 0 0\n",
            " 0 0 0 0 0 0 0 0 0 0 0 0 0 1 1 1 1 1 1 1 1 1 1 1 1 1 1 1 1 1 1 1 1 1 1 1 1\n",
            " 1 1 1 1 1 1 1 1 1 1 1 1 1 1 1 1 1 1 1 1 1 1 1 1 1 1 2 2 2 2 2 2 2 2 2 2 2\n",
            " 2 2 2 2 2 2 2 2 2 2 2 2 2 2 2 2 2 2 2 2 2 2 2 2 2 2 2 2 2 2 2 2 2 2 2 2 2\n",
            " 2 2]\n"
          ],
          "name": "stdout"
        },
        {
          "output_type": "execute_result",
          "data": {
            "text/plain": [
              "(150,)"
            ]
          },
          "metadata": {
            "tags": []
          },
          "execution_count": 68
        }
      ]
    },
    {
      "cell_type": "code",
      "metadata": {
        "id": "eFBgQx2Q-5iz",
        "outputId": "a739824c-caf8-4907-dce5-972ac23a8529",
        "colab": {
          "base_uri": "https://localhost:8080/",
          "height": 34
        }
      },
      "source": [
        "X[4]#5th sample"
      ],
      "execution_count": null,
      "outputs": [
        {
          "output_type": "execute_result",
          "data": {
            "text/plain": [
              "array([5. , 3.6, 1.4, 0.2])"
            ]
          },
          "metadata": {
            "tags": []
          },
          "execution_count": 69
        }
      ]
    },
    {
      "cell_type": "code",
      "metadata": {
        "id": "ojcReBqA_nta"
      },
      "source": [
        "from sklearn.model_selection import train_test_split\n",
        "x_train, x_test, y_train, y_test = train_test_split(X,y, test_size=0.25, random_state=42)"
      ],
      "execution_count": null,
      "outputs": []
    },
    {
      "cell_type": "code",
      "metadata": {
        "id": "m9l6l_6GAHIj",
        "outputId": "19ed7db9-1539-4cfe-86ba-2d8cdae96a0a",
        "colab": {
          "base_uri": "https://localhost:8080/",
          "height": 34
        }
      },
      "source": [
        "np.shape(x_train)\n",
        "\n"
      ],
      "execution_count": null,
      "outputs": [
        {
          "output_type": "execute_result",
          "data": {
            "text/plain": [
              "(112, 4)"
            ]
          },
          "metadata": {
            "tags": []
          },
          "execution_count": 72
        }
      ]
    },
    {
      "cell_type": "code",
      "metadata": {
        "id": "vNaxzMJvA7XG",
        "outputId": "4ebe970b-2f9b-41bf-bbbb-9bc86920ec84",
        "colab": {
          "base_uri": "https://localhost:8080/",
          "height": 34
        }
      },
      "source": [
        "np.shape(x_test)\n"
      ],
      "execution_count": null,
      "outputs": [
        {
          "output_type": "execute_result",
          "data": {
            "text/plain": [
              "(38, 4)"
            ]
          },
          "metadata": {
            "tags": []
          },
          "execution_count": 73
        }
      ]
    },
    {
      "cell_type": "code",
      "metadata": {
        "id": "WutikbUqA_gi",
        "outputId": "5f68c1cf-f62d-4188-9bdf-90874ecdf1fb",
        "colab": {
          "base_uri": "https://localhost:8080/",
          "height": 34
        }
      },
      "source": [
        "np.shape(y_train)\n"
      ],
      "execution_count": null,
      "outputs": [
        {
          "output_type": "execute_result",
          "data": {
            "text/plain": [
              "(112,)"
            ]
          },
          "metadata": {
            "tags": []
          },
          "execution_count": 74
        }
      ]
    },
    {
      "cell_type": "code",
      "metadata": {
        "id": "h8oczclDBCxQ",
        "outputId": "8e1f8d04-f3c7-4723-d982-c3e5fe6123aa",
        "colab": {
          "base_uri": "https://localhost:8080/",
          "height": 34
        }
      },
      "source": [
        "np.shape(y_test)"
      ],
      "execution_count": null,
      "outputs": [
        {
          "output_type": "execute_result",
          "data": {
            "text/plain": [
              "(38,)"
            ]
          },
          "metadata": {
            "tags": []
          },
          "execution_count": 75
        }
      ]
    },
    {
      "cell_type": "code",
      "metadata": {
        "id": "0OHicT8CBQss"
      },
      "source": [
        "from sklearn import tree"
      ],
      "execution_count": null,
      "outputs": []
    },
    {
      "cell_type": "code",
      "metadata": {
        "id": "t04A2w8qBe2k"
      },
      "source": [
        "sri = tree.DecisionTreeClassifier(criterion='gini',splitter='best',max_depth=40,random_state=None,min_samples_split=4, max_features=4)"
      ],
      "execution_count": null,
      "outputs": []
    },
    {
      "cell_type": "code",
      "metadata": {
        "id": "pjwmhC2UC-vE",
        "outputId": "b9947664-e65e-4ce9-97bc-4c842a2ef482",
        "colab": {
          "base_uri": "https://localhost:8080/",
          "height": 121
        }
      },
      "source": [
        "sri.fit(x_train,y_train)#to train the decision tree classifier sri"
      ],
      "execution_count": null,
      "outputs": [
        {
          "output_type": "execute_result",
          "data": {
            "text/plain": [
              "DecisionTreeClassifier(ccp_alpha=0.0, class_weight=None, criterion='gini',\n",
              "                       max_depth=40, max_features=4, max_leaf_nodes=None,\n",
              "                       min_impurity_decrease=0.0, min_impurity_split=None,\n",
              "                       min_samples_leaf=1, min_samples_split=4,\n",
              "                       min_weight_fraction_leaf=0.0, presort='deprecated',\n",
              "                       random_state=None, splitter='best')"
            ]
          },
          "metadata": {
            "tags": []
          },
          "execution_count": 80
        }
      ]
    },
    {
      "cell_type": "code",
      "metadata": {
        "id": "K9DSHBW4Dw5J"
      },
      "source": [
        "y_predict = sri.predict(x_test) #making predictions"
      ],
      "execution_count": null,
      "outputs": []
    },
    {
      "cell_type": "code",
      "metadata": {
        "id": "4bKqY6-bEDGb",
        "outputId": "096ae619-0d98-4d10-eb4c-122ebff111ae",
        "colab": {
          "base_uri": "https://localhost:8080/",
          "height": 694
        }
      },
      "source": [
        "print(np.column_stack((y_predict,y_test)))\n",
        "np.shape(y_predict)"
      ],
      "execution_count": null,
      "outputs": [
        {
          "output_type": "stream",
          "text": [
            "[[1 1]\n",
            " [0 0]\n",
            " [2 2]\n",
            " [1 1]\n",
            " [1 1]\n",
            " [0 0]\n",
            " [1 1]\n",
            " [2 2]\n",
            " [1 1]\n",
            " [1 1]\n",
            " [2 2]\n",
            " [0 0]\n",
            " [0 0]\n",
            " [0 0]\n",
            " [0 0]\n",
            " [1 1]\n",
            " [2 2]\n",
            " [1 1]\n",
            " [1 1]\n",
            " [2 2]\n",
            " [0 0]\n",
            " [2 2]\n",
            " [0 0]\n",
            " [2 2]\n",
            " [2 2]\n",
            " [2 2]\n",
            " [2 2]\n",
            " [2 2]\n",
            " [0 0]\n",
            " [0 0]\n",
            " [0 0]\n",
            " [0 0]\n",
            " [1 1]\n",
            " [0 0]\n",
            " [0 0]\n",
            " [2 2]\n",
            " [1 1]\n",
            " [0 0]]\n"
          ],
          "name": "stdout"
        },
        {
          "output_type": "execute_result",
          "data": {
            "text/plain": [
              "(38,)"
            ]
          },
          "metadata": {
            "tags": []
          },
          "execution_count": 82
        }
      ]
    },
    {
      "cell_type": "code",
      "metadata": {
        "id": "BKWA8HPXE9wH",
        "outputId": "2707b1a3-d4b2-434f-8a65-26bb329f79db",
        "colab": {
          "base_uri": "https://localhost:8080/",
          "height": 677
        }
      },
      "source": [
        "print(np.column_stack((y_predict,y_test)))#comparing predictions and gnd realities"
      ],
      "execution_count": null,
      "outputs": [
        {
          "output_type": "stream",
          "text": [
            "[[1 1]\n",
            " [0 0]\n",
            " [2 2]\n",
            " [1 1]\n",
            " [1 1]\n",
            " [0 0]\n",
            " [1 1]\n",
            " [2 2]\n",
            " [1 1]\n",
            " [1 1]\n",
            " [2 2]\n",
            " [0 0]\n",
            " [0 0]\n",
            " [0 0]\n",
            " [0 0]\n",
            " [1 1]\n",
            " [2 2]\n",
            " [1 1]\n",
            " [1 1]\n",
            " [2 2]\n",
            " [0 0]\n",
            " [2 2]\n",
            " [0 0]\n",
            " [2 2]\n",
            " [2 2]\n",
            " [2 2]\n",
            " [2 2]\n",
            " [2 2]\n",
            " [0 0]\n",
            " [0 0]\n",
            " [0 0]\n",
            " [0 0]\n",
            " [1 1]\n",
            " [0 0]\n",
            " [0 0]\n",
            " [2 2]\n",
            " [1 1]\n",
            " [0 0]]\n"
          ],
          "name": "stdout"
        }
      ]
    },
    {
      "cell_type": "code",
      "metadata": {
        "id": "T3fd7Y7bEEqV",
        "outputId": "8053e172-23e7-4b4a-9bee-1b9bf4545eb4",
        "colab": {
          "base_uri": "https://localhost:8080/",
          "height": 34
        }
      },
      "source": [
        "score = sri.score(x_test,y_test)#to find the accuracy\n",
        "print(score)"
      ],
      "execution_count": null,
      "outputs": [
        {
          "output_type": "stream",
          "text": [
            "1.0\n"
          ],
          "name": "stdout"
        }
      ]
    },
    {
      "cell_type": "code",
      "metadata": {
        "id": "lwb2BxanGNvl",
        "outputId": "047bb6e6-c79e-4880-efde-f750536c6d59",
        "colab": {
          "base_uri": "https://localhost:8080/",
          "height": 34
        }
      },
      "source": [
        "print(\"classes = \", sri.classes_)#"
      ],
      "execution_count": null,
      "outputs": [
        {
          "output_type": "stream",
          "text": [
            "classes =  [0 1 2 3 4 5 6 7 8 9]\n"
          ],
          "name": "stdout"
        }
      ]
    },
    {
      "cell_type": "code",
      "metadata": {
        "id": "GcOxXiGmHHM2",
        "outputId": "637b2827-9a31-400e-85ab-1947ae3cc18f",
        "colab": {
          "base_uri": "https://localhost:8080/",
          "height": 225
        }
      },
      "source": [
        "print(\"Feature importances = \", sri.feature_importances_)\n",
        "print(np.shape(sri.feature_importances_))"
      ],
      "execution_count": null,
      "outputs": [
        {
          "output_type": "stream",
          "text": [
            "Feature importances =  [0.         0.         0.09724655 0.         0.         0.\n",
            " 0.01347647 0.         0.         0.01758048 0.01676956 0.\n",
            " 0.         0.03980171 0.         0.         0.         0.\n",
            " 0.         0.05830981 0.02891297 0.05913812 0.         0.\n",
            " 0.         0.         0.01119243 0.02189257 0.         0.06855211\n",
            " 0.         0.         0.         0.         0.1124388  0.0036118\n",
            " 0.15869769 0.         0.         0.         0.         0.06690796\n",
            " 0.         0.         0.         0.         0.         0.\n",
            " 0.         0.         0.         0.         0.00993245 0.\n",
            " 0.         0.         0.         0.         0.01409869 0.01903396\n",
            " 0.12046913 0.06193676 0.         0.        ]\n",
            "(64,)\n"
          ],
          "name": "stdout"
        }
      ]
    },
    {
      "cell_type": "code",
      "metadata": {
        "id": "4h8h5mrmHa5K",
        "outputId": "a44747d7-a873-44b9-e2e7-8e95e049d538",
        "colab": {
          "base_uri": "https://localhost:8080/",
          "height": 52
        }
      },
      "source": [
        "print(\"Max Features = \",sri.max_features_)\n",
        "print(np.shape(sri.max_features_))\n"
      ],
      "execution_count": null,
      "outputs": [
        {
          "output_type": "stream",
          "text": [
            "Max Features =  8\n",
            "()\n"
          ],
          "name": "stdout"
        }
      ]
    },
    {
      "cell_type": "code",
      "metadata": {
        "id": "Bfv12dmAHh69",
        "outputId": "d8412f46-7c7f-4857-a32c-9f9ba2e603e4",
        "colab": {
          "base_uri": "https://localhost:8080/",
          "height": 52
        }
      },
      "source": [
        "print(\"Number of features during fit = \", sri.n_features_)\n",
        "print(np.shape(sri.n_features_))"
      ],
      "execution_count": null,
      "outputs": [
        {
          "output_type": "stream",
          "text": [
            "Number of features during fit =  64\n",
            "()\n"
          ],
          "name": "stdout"
        }
      ]
    },
    {
      "cell_type": "code",
      "metadata": {
        "id": "uGrGtvrnHtg6",
        "outputId": "219f5f39-5a1d-4a69-9f71-b2e5dade5c72",
        "colab": {
          "base_uri": "https://localhost:8080/",
          "height": 52
        }
      },
      "source": [
        "print(\"Total outputs during fit = \",sri.n_outputs_)\n",
        "print(np.shape(sri.n_outputs_))"
      ],
      "execution_count": null,
      "outputs": [
        {
          "output_type": "stream",
          "text": [
            "Total outputs during fit =  1\n",
            "()\n"
          ],
          "name": "stdout"
        }
      ]
    },
    {
      "cell_type": "code",
      "metadata": {
        "id": "OGMdsVK3H1lB",
        "outputId": "4346f70c-bca8-4869-a5de-6fcb44e1a3d2",
        "colab": {
          "base_uri": "https://localhost:8080/",
          "height": 815
        }
      },
      "source": [
        "import graphviz\n",
        "dot_data = tree.export_graphviz(clf, out_file=None, max_depth=5)\n",
        "graph = graphviz.Source(dot_data)\n",
        "graph\n",
        "\n"
      ],
      "execution_count": null,
      "outputs": [
        {
          "output_type": "execute_result",
          "data": {
            "text/plain": [
              "<graphviz.files.Source at 0x7f0410c85668>"
            ],
            "image/svg+xml": "<?xml version=\"1.0\" encoding=\"UTF-8\" standalone=\"no\"?>\n<!DOCTYPE svg PUBLIC \"-//W3C//DTD SVG 1.1//EN\"\n \"http://www.w3.org/Graphics/SVG/1.1/DTD/svg11.dtd\">\n<!-- Generated by graphviz version 2.40.1 (20161225.0304)\n -->\n<!-- Title: Tree Pages: 1 -->\n<svg width=\"7702pt\" height=\"581pt\"\n viewBox=\"0.00 0.00 7701.50 581.00\" xmlns=\"http://www.w3.org/2000/svg\" xmlns:xlink=\"http://www.w3.org/1999/xlink\">\n<g id=\"graph0\" class=\"graph\" transform=\"scale(1 1) rotate(0) translate(4 577)\">\n<title>Tree</title>\n<polygon fill=\"#ffffff\" stroke=\"transparent\" points=\"-4,4 -4,-577 7697.5,-577 7697.5,4 -4,4\"/>\n<!-- 0 -->\n<g id=\"node1\" class=\"node\">\n<title>0</title>\n<polygon fill=\"none\" stroke=\"#000000\" points=\"4502,-573 4138,-573 4138,-505 4502,-505 4502,-573\"/>\n<text text-anchor=\"middle\" x=\"4320\" y=\"-557.8\" font-family=\"Times,serif\" font-size=\"14.00\" fill=\"#000000\">X[35] &lt;= 5.5</text>\n<text text-anchor=\"middle\" x=\"4320\" y=\"-542.8\" font-family=\"Times,serif\" font-size=\"14.00\" fill=\"#000000\">entropy = 3.321</text>\n<text text-anchor=\"middle\" x=\"4320\" y=\"-527.8\" font-family=\"Times,serif\" font-size=\"14.00\" fill=\"#000000\">samples = 1257</text>\n<text text-anchor=\"middle\" x=\"4320\" y=\"-512.8\" font-family=\"Times,serif\" font-size=\"14.00\" fill=\"#000000\">value = [125, 132, 130, 129, 121, 116, 128, 124, 131, 121]</text>\n</g>\n<!-- 1 -->\n<g id=\"node2\" class=\"node\">\n<title>1</title>\n<polygon fill=\"none\" stroke=\"#000000\" points=\"3135.5,-469 2846.5,-469 2846.5,-401 3135.5,-401 3135.5,-469\"/>\n<text text-anchor=\"middle\" x=\"2991\" y=\"-453.8\" font-family=\"Times,serif\" font-size=\"14.00\" fill=\"#000000\">X[34] &lt;= 3.5</text>\n<text text-anchor=\"middle\" x=\"2991\" y=\"-438.8\" font-family=\"Times,serif\" font-size=\"14.00\" fill=\"#000000\">entropy = 2.836</text>\n<text text-anchor=\"middle\" x=\"2991\" y=\"-423.8\" font-family=\"Times,serif\" font-size=\"14.00\" fill=\"#000000\">samples = 421</text>\n<text text-anchor=\"middle\" x=\"2991\" y=\"-408.8\" font-family=\"Times,serif\" font-size=\"14.00\" fill=\"#000000\">value = [118, 21, 44, 75, 30, 41, 10, 10, 2, 70]</text>\n</g>\n<!-- 0&#45;&gt;1 -->\n<g id=\"edge1\" class=\"edge\">\n<title>0&#45;&gt;1</title>\n<path fill=\"none\" stroke=\"#000000\" d=\"M4137.9948,-524.7573C3874.8776,-504.1672 3392.7851,-466.4414 3145.8044,-447.1141\"/>\n<polygon fill=\"#000000\" stroke=\"#000000\" points=\"3145.9133,-443.612 3135.6707,-446.3211 3145.3671,-450.5907 3145.9133,-443.612\"/>\n<text text-anchor=\"middle\" x=\"3151.9153\" y=\"-461.624\" font-family=\"Times,serif\" font-size=\"14.00\" fill=\"#000000\">True</text>\n</g>\n<!-- 32 -->\n<g id=\"node33\" class=\"node\">\n<title>32</title>\n<polygon fill=\"none\" stroke=\"#000000\" points=\"4850.5,-469 4541.5,-469 4541.5,-401 4850.5,-401 4850.5,-469\"/>\n<text text-anchor=\"middle\" x=\"4696\" y=\"-453.8\" font-family=\"Times,serif\" font-size=\"14.00\" fill=\"#000000\">X[46] &lt;= 5.5</text>\n<text text-anchor=\"middle\" x=\"4696\" y=\"-438.8\" font-family=\"Times,serif\" font-size=\"14.00\" fill=\"#000000\">entropy = 3.151</text>\n<text text-anchor=\"middle\" x=\"4696\" y=\"-423.8\" font-family=\"Times,serif\" font-size=\"14.00\" fill=\"#000000\">samples = 836</text>\n<text text-anchor=\"middle\" x=\"4696\" y=\"-408.8\" font-family=\"Times,serif\" font-size=\"14.00\" fill=\"#000000\">value = [7, 111, 86, 54, 91, 75, 118, 114, 129, 51]</text>\n</g>\n<!-- 0&#45;&gt;32 -->\n<g id=\"edge32\" class=\"edge\">\n<title>0&#45;&gt;32</title>\n<path fill=\"none\" stroke=\"#000000\" d=\"M4443.1165,-504.9465C4481.519,-494.3245 4524.0385,-482.5638 4563.0816,-471.7647\"/>\n<polygon fill=\"#000000\" stroke=\"#000000\" points=\"4564.2232,-475.0804 4572.9283,-469.0411 4562.3571,-468.3337 4564.2232,-475.0804\"/>\n<text text-anchor=\"middle\" x=\"4560.603\" y=\"-487.0917\" font-family=\"Times,serif\" font-size=\"14.00\" fill=\"#000000\">False</text>\n</g>\n<!-- 2 -->\n<g id=\"node3\" class=\"node\">\n<title>2</title>\n<polygon fill=\"none\" stroke=\"#000000\" points=\"1566,-365 1314,-365 1314,-297 1566,-297 1566,-365\"/>\n<text text-anchor=\"middle\" x=\"1440\" y=\"-349.8\" font-family=\"Times,serif\" font-size=\"14.00\" fill=\"#000000\">X[46] &lt;= 4.5</text>\n<text text-anchor=\"middle\" x=\"1440\" y=\"-334.8\" font-family=\"Times,serif\" font-size=\"14.00\" fill=\"#000000\">entropy = 2.286</text>\n<text text-anchor=\"middle\" x=\"1440\" y=\"-319.8\" font-family=\"Times,serif\" font-size=\"14.00\" fill=\"#000000\">samples = 228</text>\n<text text-anchor=\"middle\" x=\"1440\" y=\"-304.8\" font-family=\"Times,serif\" font-size=\"14.00\" fill=\"#000000\">value = [0, 15, 44, 73, 0, 17, 0, 9, 2, 68]</text>\n</g>\n<!-- 1&#45;&gt;2 -->\n<g id=\"edge2\" class=\"edge\">\n<title>1&#45;&gt;2</title>\n<path fill=\"none\" stroke=\"#000000\" d=\"M2846.4785,-425.3093C2548.0794,-405.3006 1867.4485,-359.6619 1576.2588,-340.1366\"/>\n<polygon fill=\"#000000\" stroke=\"#000000\" points=\"1576.2776,-336.6301 1566.0659,-339.4532 1575.8093,-343.6144 1576.2776,-336.6301\"/>\n</g>\n<!-- 17 -->\n<g id=\"node18\" class=\"node\">\n<title>17</title>\n<polygon fill=\"none\" stroke=\"#000000\" points=\"3116.5,-365 2865.5,-365 2865.5,-297 3116.5,-297 3116.5,-365\"/>\n<text text-anchor=\"middle\" x=\"2991\" y=\"-349.8\" font-family=\"Times,serif\" font-size=\"14.00\" fill=\"#000000\">X[27] &lt;= 10.5</text>\n<text text-anchor=\"middle\" x=\"2991\" y=\"-334.8\" font-family=\"Times,serif\" font-size=\"14.00\" fill=\"#000000\">entropy = 1.778</text>\n<text text-anchor=\"middle\" x=\"2991\" y=\"-319.8\" font-family=\"Times,serif\" font-size=\"14.00\" fill=\"#000000\">samples = 193</text>\n<text text-anchor=\"middle\" x=\"2991\" y=\"-304.8\" font-family=\"Times,serif\" font-size=\"14.00\" fill=\"#000000\">value = [118, 6, 0, 2, 30, 24, 10, 1, 0, 2]</text>\n</g>\n<!-- 1&#45;&gt;17 -->\n<g id=\"edge17\" class=\"edge\">\n<title>1&#45;&gt;17</title>\n<path fill=\"none\" stroke=\"#000000\" d=\"M2991,-400.9465C2991,-392.776 2991,-383.9318 2991,-375.3697\"/>\n<polygon fill=\"#000000\" stroke=\"#000000\" points=\"2994.5001,-375.13 2991,-365.13 2987.5001,-375.13 2994.5001,-375.13\"/>\n</g>\n<!-- 3 -->\n<g id=\"node4\" class=\"node\">\n<title>3</title>\n<polygon fill=\"none\" stroke=\"#000000\" points=\"848.5,-261 597.5,-261 597.5,-193 848.5,-193 848.5,-261\"/>\n<text text-anchor=\"middle\" x=\"723\" y=\"-245.8\" font-family=\"Times,serif\" font-size=\"14.00\" fill=\"#000000\">X[27] &lt;= 6.0</text>\n<text text-anchor=\"middle\" x=\"723\" y=\"-230.8\" font-family=\"Times,serif\" font-size=\"14.00\" fill=\"#000000\">entropy = 2.416</text>\n<text text-anchor=\"middle\" x=\"723\" y=\"-215.8\" font-family=\"Times,serif\" font-size=\"14.00\" fill=\"#000000\">samples = 120</text>\n<text text-anchor=\"middle\" x=\"723\" y=\"-200.8\" font-family=\"Times,serif\" font-size=\"14.00\" fill=\"#000000\">value = [0, 14, 44, 19, 0, 11, 0, 9, 1, 22]</text>\n</g>\n<!-- 2&#45;&gt;3 -->\n<g id=\"edge3\" class=\"edge\">\n<title>2&#45;&gt;3</title>\n<path fill=\"none\" stroke=\"#000000\" d=\"M1313.8767,-312.706C1186.3054,-294.2019 989.7531,-265.6922 858.8172,-246.7001\"/>\n<polygon fill=\"#000000\" stroke=\"#000000\" points=\"859.1186,-243.2073 848.7198,-245.2355 858.1138,-250.1348 859.1186,-243.2073\"/>\n</g>\n<!-- 10 -->\n<g id=\"node11\" class=\"node\">\n<title>10</title>\n<polygon fill=\"none\" stroke=\"#000000\" points=\"1555,-261 1325,-261 1325,-193 1555,-193 1555,-261\"/>\n<text text-anchor=\"middle\" x=\"1440\" y=\"-245.8\" font-family=\"Times,serif\" font-size=\"14.00\" fill=\"#000000\">X[4] &lt;= 14.5</text>\n<text text-anchor=\"middle\" x=\"1440\" y=\"-230.8\" font-family=\"Times,serif\" font-size=\"14.00\" fill=\"#000000\">entropy = 1.381</text>\n<text text-anchor=\"middle\" x=\"1440\" y=\"-215.8\" font-family=\"Times,serif\" font-size=\"14.00\" fill=\"#000000\">samples = 108</text>\n<text text-anchor=\"middle\" x=\"1440\" y=\"-200.8\" font-family=\"Times,serif\" font-size=\"14.00\" fill=\"#000000\">value = [0, 1, 0, 54, 0, 6, 0, 0, 1, 46]</text>\n</g>\n<!-- 2&#45;&gt;10 -->\n<g id=\"edge10\" class=\"edge\">\n<title>2&#45;&gt;10</title>\n<path fill=\"none\" stroke=\"#000000\" d=\"M1440,-296.9465C1440,-288.776 1440,-279.9318 1440,-271.3697\"/>\n<polygon fill=\"#000000\" stroke=\"#000000\" points=\"1443.5001,-271.13 1440,-261.13 1436.5001,-271.13 1443.5001,-271.13\"/>\n</g>\n<!-- 4 -->\n<g id=\"node5\" class=\"node\">\n<title>4</title>\n<polygon fill=\"none\" stroke=\"#000000\" points=\"470,-157 240,-157 240,-89 470,-89 470,-157\"/>\n<text text-anchor=\"middle\" x=\"355\" y=\"-141.8\" font-family=\"Times,serif\" font-size=\"14.00\" fill=\"#000000\">X[5] &lt;= 3.5</text>\n<text text-anchor=\"middle\" x=\"355\" y=\"-126.8\" font-family=\"Times,serif\" font-size=\"14.00\" fill=\"#000000\">entropy = 1.783</text>\n<text text-anchor=\"middle\" x=\"355\" y=\"-111.8\" font-family=\"Times,serif\" font-size=\"14.00\" fill=\"#000000\">samples = 75</text>\n<text text-anchor=\"middle\" x=\"355\" y=\"-96.8\" font-family=\"Times,serif\" font-size=\"14.00\" fill=\"#000000\">value = [0, 7, 44, 12, 0, 1, 0, 9, 0, 2]</text>\n</g>\n<!-- 3&#45;&gt;4 -->\n<g id=\"edge4\" class=\"edge\">\n<title>3&#45;&gt;4</title>\n<path fill=\"none\" stroke=\"#000000\" d=\"M602.503,-192.9465C563.1919,-181.8368 519.4729,-169.4815 479.8493,-158.2835\"/>\n<polygon fill=\"#000000\" stroke=\"#000000\" points=\"480.7113,-154.8901 470.1364,-155.5385 478.8076,-161.6263 480.7113,-154.8901\"/>\n</g>\n<!-- 7 -->\n<g id=\"node8\" class=\"node\">\n<title>7</title>\n<polygon fill=\"none\" stroke=\"#000000\" points=\"838,-157 608,-157 608,-89 838,-89 838,-157\"/>\n<text text-anchor=\"middle\" x=\"723\" y=\"-141.8\" font-family=\"Times,serif\" font-size=\"14.00\" fill=\"#000000\">X[61] &lt;= 5.5</text>\n<text text-anchor=\"middle\" x=\"723\" y=\"-126.8\" font-family=\"Times,serif\" font-size=\"14.00\" fill=\"#000000\">entropy = 1.959</text>\n<text text-anchor=\"middle\" x=\"723\" y=\"-111.8\" font-family=\"Times,serif\" font-size=\"14.00\" fill=\"#000000\">samples = 45</text>\n<text text-anchor=\"middle\" x=\"723\" y=\"-96.8\" font-family=\"Times,serif\" font-size=\"14.00\" fill=\"#000000\">value = [0, 7, 0, 7, 0, 10, 0, 0, 1, 20]</text>\n</g>\n<!-- 3&#45;&gt;7 -->\n<g id=\"edge7\" class=\"edge\">\n<title>3&#45;&gt;7</title>\n<path fill=\"none\" stroke=\"#000000\" d=\"M723,-192.9465C723,-184.776 723,-175.9318 723,-167.3697\"/>\n<polygon fill=\"#000000\" stroke=\"#000000\" points=\"726.5001,-167.13 723,-157.13 719.5001,-167.13 726.5001,-167.13\"/>\n</g>\n<!-- 5 -->\n<g id=\"node6\" class=\"node\">\n<title>5</title>\n<polygon fill=\"none\" stroke=\"#000000\" points=\"222,-53 0,-53 0,0 222,0 222,-53\"/>\n<text text-anchor=\"middle\" x=\"111\" y=\"-37.8\" font-family=\"Times,serif\" font-size=\"14.00\" fill=\"#000000\">entropy = 0.0</text>\n<text text-anchor=\"middle\" x=\"111\" y=\"-22.8\" font-family=\"Times,serif\" font-size=\"14.00\" fill=\"#000000\">samples = 34</text>\n<text text-anchor=\"middle\" x=\"111\" y=\"-7.8\" font-family=\"Times,serif\" font-size=\"14.00\" fill=\"#000000\">value = [0, 0, 34, 0, 0, 0, 0, 0, 0, 0]</text>\n</g>\n<!-- 4&#45;&gt;5 -->\n<g id=\"edge5\" class=\"edge\">\n<title>4&#45;&gt;5</title>\n<path fill=\"none\" stroke=\"#000000\" d=\"M268.9747,-88.9777C242.4577,-78.4904 213.4505,-67.0183 187.6113,-56.7992\"/>\n<polygon fill=\"#000000\" stroke=\"#000000\" points=\"188.8318,-53.5181 178.2455,-53.095 186.2574,-60.0275 188.8318,-53.5181\"/>\n</g>\n<!-- 6 -->\n<g id=\"node7\" class=\"node\">\n<title>6</title>\n<polygon fill=\"none\" stroke=\"#000000\" points=\"470,-53 240,-53 240,0 470,0 470,-53\"/>\n<text text-anchor=\"middle\" x=\"355\" y=\"-37.8\" font-family=\"Times,serif\" font-size=\"14.00\" fill=\"#000000\">entropy = 2.274</text>\n<text text-anchor=\"middle\" x=\"355\" y=\"-22.8\" font-family=\"Times,serif\" font-size=\"14.00\" fill=\"#000000\">samples = 41</text>\n<text text-anchor=\"middle\" x=\"355\" y=\"-7.8\" font-family=\"Times,serif\" font-size=\"14.00\" fill=\"#000000\">value = [0, 7, 10, 12, 0, 1, 0, 9, 0, 2]</text>\n</g>\n<!-- 4&#45;&gt;6 -->\n<g id=\"edge6\" class=\"edge\">\n<title>4&#45;&gt;6</title>\n<path fill=\"none\" stroke=\"#000000\" d=\"M355,-88.9777C355,-80.7364 355,-71.887 355,-63.5153\"/>\n<polygon fill=\"#000000\" stroke=\"#000000\" points=\"358.5001,-63.2484 355,-53.2485 351.5001,-63.2485 358.5001,-63.2484\"/>\n</g>\n<!-- 8 -->\n<g id=\"node9\" class=\"node\">\n<title>8</title>\n<polygon fill=\"none\" stroke=\"#000000\" points=\"717.5,-53 488.5,-53 488.5,0 717.5,0 717.5,-53\"/>\n<text text-anchor=\"middle\" x=\"603\" y=\"-37.8\" font-family=\"Times,serif\" font-size=\"14.00\" fill=\"#000000\">entropy = 1.22</text>\n<text text-anchor=\"middle\" x=\"603\" y=\"-22.8\" font-family=\"Times,serif\" font-size=\"14.00\" fill=\"#000000\">samples = 22</text>\n<text text-anchor=\"middle\" x=\"603\" y=\"-7.8\" font-family=\"Times,serif\" font-size=\"14.00\" fill=\"#000000\">value = [0, 0, 0, 1, 0, 10, 0, 0, 0, 11]</text>\n</g>\n<!-- 7&#45;&gt;8 -->\n<g id=\"edge8\" class=\"edge\">\n<title>7&#45;&gt;8</title>\n<path fill=\"none\" stroke=\"#000000\" d=\"M680.6925,-88.9777C668.8501,-79.4545 655.9979,-69.1191 644.2195,-59.6473\"/>\n<polygon fill=\"#000000\" stroke=\"#000000\" points=\"646.2486,-56.7877 636.2624,-53.2485 641.8618,-62.2427 646.2486,-56.7877\"/>\n</g>\n<!-- 9 -->\n<g id=\"node10\" class=\"node\">\n<title>9</title>\n<polygon fill=\"none\" stroke=\"#000000\" points=\"950.5,-53 735.5,-53 735.5,0 950.5,0 950.5,-53\"/>\n<text text-anchor=\"middle\" x=\"843\" y=\"-37.8\" font-family=\"Times,serif\" font-size=\"14.00\" fill=\"#000000\">entropy = 1.754</text>\n<text text-anchor=\"middle\" x=\"843\" y=\"-22.8\" font-family=\"Times,serif\" font-size=\"14.00\" fill=\"#000000\">samples = 23</text>\n<text text-anchor=\"middle\" x=\"843\" y=\"-7.8\" font-family=\"Times,serif\" font-size=\"14.00\" fill=\"#000000\">value = [0, 7, 0, 6, 0, 0, 0, 0, 1, 9]</text>\n</g>\n<!-- 7&#45;&gt;9 -->\n<g id=\"edge9\" class=\"edge\">\n<title>7&#45;&gt;9</title>\n<path fill=\"none\" stroke=\"#000000\" d=\"M765.3075,-88.9777C777.1499,-79.4545 790.0021,-69.1191 801.7805,-59.6473\"/>\n<polygon fill=\"#000000\" stroke=\"#000000\" points=\"804.1382,-62.2427 809.7376,-53.2485 799.7514,-56.7877 804.1382,-62.2427\"/>\n</g>\n<!-- 11 -->\n<g id=\"node12\" class=\"node\">\n<title>11</title>\n<polygon fill=\"none\" stroke=\"#000000\" points=\"1433,-157 1203,-157 1203,-89 1433,-89 1433,-157\"/>\n<text text-anchor=\"middle\" x=\"1318\" y=\"-141.8\" font-family=\"Times,serif\" font-size=\"14.00\" fill=\"#000000\">X[36] &lt;= 4.5</text>\n<text text-anchor=\"middle\" x=\"1318\" y=\"-126.8\" font-family=\"Times,serif\" font-size=\"14.00\" fill=\"#000000\">entropy = 1.447</text>\n<text text-anchor=\"middle\" x=\"1318\" y=\"-111.8\" font-family=\"Times,serif\" font-size=\"14.00\" fill=\"#000000\">samples = 70</text>\n<text text-anchor=\"middle\" x=\"1318\" y=\"-96.8\" font-family=\"Times,serif\" font-size=\"14.00\" fill=\"#000000\">value = [0, 1, 0, 24, 0, 5, 0, 0, 1, 39]</text>\n</g>\n<!-- 10&#45;&gt;11 -->\n<g id=\"edge11\" class=\"edge\">\n<title>10&#45;&gt;11</title>\n<path fill=\"none\" stroke=\"#000000\" d=\"M1400.0526,-192.9465C1389.0988,-183.6088 1377.1127,-173.3911 1365.768,-163.7203\"/>\n<polygon fill=\"#000000\" stroke=\"#000000\" points=\"1367.9179,-160.9538 1358.0371,-157.13 1363.3767,-166.2809 1367.9179,-160.9538\"/>\n</g>\n<!-- 14 -->\n<g id=\"node15\" class=\"node\">\n<title>14</title>\n<polygon fill=\"none\" stroke=\"#000000\" points=\"1673,-157 1451,-157 1451,-89 1673,-89 1673,-157\"/>\n<text text-anchor=\"middle\" x=\"1562\" y=\"-141.8\" font-family=\"Times,serif\" font-size=\"14.00\" fill=\"#000000\">X[38] &lt;= 5.5</text>\n<text text-anchor=\"middle\" x=\"1562\" y=\"-126.8\" font-family=\"Times,serif\" font-size=\"14.00\" fill=\"#000000\">entropy = 0.857</text>\n<text text-anchor=\"middle\" x=\"1562\" y=\"-111.8\" font-family=\"Times,serif\" font-size=\"14.00\" fill=\"#000000\">samples = 38</text>\n<text text-anchor=\"middle\" x=\"1562\" y=\"-96.8\" font-family=\"Times,serif\" font-size=\"14.00\" fill=\"#000000\">value = [0, 0, 0, 30, 0, 1, 0, 0, 0, 7]</text>\n</g>\n<!-- 10&#45;&gt;14 -->\n<g id=\"edge14\" class=\"edge\">\n<title>10&#45;&gt;14</title>\n<path fill=\"none\" stroke=\"#000000\" d=\"M1479.9474,-192.9465C1490.9012,-183.6088 1502.8873,-173.3911 1514.232,-163.7203\"/>\n<polygon fill=\"#000000\" stroke=\"#000000\" points=\"1516.6233,-166.2809 1521.9629,-157.13 1512.0821,-160.9538 1516.6233,-166.2809\"/>\n</g>\n<!-- 12 -->\n<g id=\"node13\" class=\"node\">\n<title>12</title>\n<polygon fill=\"none\" stroke=\"#000000\" points=\"1191,-53 969,-53 969,0 1191,0 1191,-53\"/>\n<text text-anchor=\"middle\" x=\"1080\" y=\"-37.8\" font-family=\"Times,serif\" font-size=\"14.00\" fill=\"#000000\">entropy = 0.814</text>\n<text text-anchor=\"middle\" x=\"1080\" y=\"-22.8\" font-family=\"Times,serif\" font-size=\"14.00\" fill=\"#000000\">samples = 42</text>\n<text text-anchor=\"middle\" x=\"1080\" y=\"-7.8\" font-family=\"Times,serif\" font-size=\"14.00\" fill=\"#000000\">value = [0, 0, 0, 4, 0, 3, 0, 0, 0, 35]</text>\n</g>\n<!-- 11&#45;&gt;12 -->\n<g id=\"edge12\" class=\"edge\">\n<title>11&#45;&gt;12</title>\n<path fill=\"none\" stroke=\"#000000\" d=\"M1234.0901,-88.9777C1208.3386,-78.5364 1180.1793,-67.1189 1155.0592,-56.9337\"/>\n<polygon fill=\"#000000\" stroke=\"#000000\" points=\"1156.1742,-53.6091 1145.5919,-53.095 1153.5439,-60.0961 1156.1742,-53.6091\"/>\n</g>\n<!-- 13 -->\n<g id=\"node14\" class=\"node\">\n<title>13</title>\n<polygon fill=\"none\" stroke=\"#000000\" points=\"1431,-53 1209,-53 1209,0 1431,0 1431,-53\"/>\n<text text-anchor=\"middle\" x=\"1320\" y=\"-37.8\" font-family=\"Times,serif\" font-size=\"14.00\" fill=\"#000000\">entropy = 1.363</text>\n<text text-anchor=\"middle\" x=\"1320\" y=\"-22.8\" font-family=\"Times,serif\" font-size=\"14.00\" fill=\"#000000\">samples = 28</text>\n<text text-anchor=\"middle\" x=\"1320\" y=\"-7.8\" font-family=\"Times,serif\" font-size=\"14.00\" fill=\"#000000\">value = [0, 1, 0, 20, 0, 2, 0, 0, 1, 4]</text>\n</g>\n<!-- 11&#45;&gt;13 -->\n<g id=\"edge13\" class=\"edge\">\n<title>11&#45;&gt;13</title>\n<path fill=\"none\" stroke=\"#000000\" d=\"M1318.7051,-88.9777C1318.8759,-80.7364 1319.0593,-71.887 1319.2328,-63.5153\"/>\n<polygon fill=\"#000000\" stroke=\"#000000\" points=\"1322.7376,-63.3189 1319.4456,-53.2485 1315.7391,-63.1738 1322.7376,-63.3189\"/>\n</g>\n<!-- 15 -->\n<g id=\"node16\" class=\"node\">\n<title>15</title>\n<polygon fill=\"none\" stroke=\"#000000\" points=\"1671,-53 1449,-53 1449,0 1671,0 1671,-53\"/>\n<text text-anchor=\"middle\" x=\"1560\" y=\"-37.8\" font-family=\"Times,serif\" font-size=\"14.00\" fill=\"#000000\">entropy = 0.0</text>\n<text text-anchor=\"middle\" x=\"1560\" y=\"-22.8\" font-family=\"Times,serif\" font-size=\"14.00\" fill=\"#000000\">samples = 20</text>\n<text text-anchor=\"middle\" x=\"1560\" y=\"-7.8\" font-family=\"Times,serif\" font-size=\"14.00\" fill=\"#000000\">value = [0, 0, 0, 20, 0, 0, 0, 0, 0, 0]</text>\n</g>\n<!-- 14&#45;&gt;15 -->\n<g id=\"edge15\" class=\"edge\">\n<title>14&#45;&gt;15</title>\n<path fill=\"none\" stroke=\"#000000\" d=\"M1561.2949,-88.9777C1561.1241,-80.7364 1560.9407,-71.887 1560.7672,-63.5153\"/>\n<polygon fill=\"#000000\" stroke=\"#000000\" points=\"1564.2609,-63.1738 1560.5544,-53.2485 1557.2624,-63.3189 1564.2609,-63.1738\"/>\n</g>\n<!-- 16 -->\n<g id=\"node17\" class=\"node\">\n<title>16</title>\n<polygon fill=\"none\" stroke=\"#000000\" points=\"1911,-53 1689,-53 1689,0 1911,0 1911,-53\"/>\n<text text-anchor=\"middle\" x=\"1800\" y=\"-37.8\" font-family=\"Times,serif\" font-size=\"14.00\" fill=\"#000000\">entropy = 1.233</text>\n<text text-anchor=\"middle\" x=\"1800\" y=\"-22.8\" font-family=\"Times,serif\" font-size=\"14.00\" fill=\"#000000\">samples = 18</text>\n<text text-anchor=\"middle\" x=\"1800\" y=\"-7.8\" font-family=\"Times,serif\" font-size=\"14.00\" fill=\"#000000\">value = [0, 0, 0, 10, 0, 1, 0, 0, 0, 7]</text>\n</g>\n<!-- 14&#45;&gt;16 -->\n<g id=\"edge16\" class=\"edge\">\n<title>14&#45;&gt;16</title>\n<path fill=\"none\" stroke=\"#000000\" d=\"M1645.9099,-88.9777C1671.6614,-78.5364 1699.8207,-67.1189 1724.9408,-56.9337\"/>\n<polygon fill=\"#000000\" stroke=\"#000000\" points=\"1726.4561,-60.0961 1734.4081,-53.095 1723.8258,-53.6091 1726.4561,-60.0961\"/>\n</g>\n<!-- 18 -->\n<g id=\"node19\" class=\"node\">\n<title>18</title>\n<polygon fill=\"none\" stroke=\"#000000\" points=\"2753,-261 2517,-261 2517,-193 2753,-193 2753,-261\"/>\n<text text-anchor=\"middle\" x=\"2635\" y=\"-245.8\" font-family=\"Times,serif\" font-size=\"14.00\" fill=\"#000000\">X[2] &lt;= 0.5</text>\n<text text-anchor=\"middle\" x=\"2635\" y=\"-230.8\" font-family=\"Times,serif\" font-size=\"14.00\" fill=\"#000000\">entropy = 1.144</text>\n<text text-anchor=\"middle\" x=\"2635\" y=\"-215.8\" font-family=\"Times,serif\" font-size=\"14.00\" fill=\"#000000\">samples = 155</text>\n<text text-anchor=\"middle\" x=\"2635\" y=\"-200.8\" font-family=\"Times,serif\" font-size=\"14.00\" fill=\"#000000\">value = [117, 0, 0, 2, 25, 1, 9, 1, 0, 0]</text>\n</g>\n<!-- 17&#45;&gt;18 -->\n<g id=\"edge18\" class=\"edge\">\n<title>17&#45;&gt;18</title>\n<path fill=\"none\" stroke=\"#000000\" d=\"M2874.4323,-296.9465C2838.2265,-286.3695 2798.1557,-274.6635 2761.3184,-263.902\"/>\n<polygon fill=\"#000000\" stroke=\"#000000\" points=\"2762.1056,-260.4858 2751.5254,-261.0411 2760.1427,-267.2049 2762.1056,-260.4858\"/>\n</g>\n<!-- 25 -->\n<g id=\"node26\" class=\"node\">\n<title>25</title>\n<polygon fill=\"none\" stroke=\"#000000\" points=\"3223,-261 3001,-261 3001,-193 3223,-193 3223,-261\"/>\n<text text-anchor=\"middle\" x=\"3112\" y=\"-245.8\" font-family=\"Times,serif\" font-size=\"14.00\" fill=\"#000000\">X[21] &lt;= 9.5</text>\n<text text-anchor=\"middle\" x=\"3112\" y=\"-230.8\" font-family=\"Times,serif\" font-size=\"14.00\" fill=\"#000000\">entropy = 1.744</text>\n<text text-anchor=\"middle\" x=\"3112\" y=\"-215.8\" font-family=\"Times,serif\" font-size=\"14.00\" fill=\"#000000\">samples = 38</text>\n<text text-anchor=\"middle\" x=\"3112\" y=\"-200.8\" font-family=\"Times,serif\" font-size=\"14.00\" fill=\"#000000\">value = [1, 6, 0, 0, 5, 23, 1, 0, 0, 2]</text>\n</g>\n<!-- 17&#45;&gt;25 -->\n<g id=\"edge25\" class=\"edge\">\n<title>17&#45;&gt;25</title>\n<path fill=\"none\" stroke=\"#000000\" d=\"M3030.6199,-296.9465C3041.484,-287.6088 3053.3718,-277.3911 3064.6235,-267.7203\"/>\n<polygon fill=\"#000000\" stroke=\"#000000\" points=\"3066.9887,-270.3026 3072.2911,-261.13 3062.4259,-264.994 3066.9887,-270.3026\"/>\n</g>\n<!-- 19 -->\n<g id=\"node20\" class=\"node\">\n<title>19</title>\n<polygon fill=\"none\" stroke=\"#000000\" points=\"2385,-157 2163,-157 2163,-89 2385,-89 2385,-157\"/>\n<text text-anchor=\"middle\" x=\"2274\" y=\"-141.8\" font-family=\"Times,serif\" font-size=\"14.00\" fill=\"#000000\">X[43] &lt;= 11.5</text>\n<text text-anchor=\"middle\" x=\"2274\" y=\"-126.8\" font-family=\"Times,serif\" font-size=\"14.00\" fill=\"#000000\">entropy = 0.799</text>\n<text text-anchor=\"middle\" x=\"2274\" y=\"-111.8\" font-family=\"Times,serif\" font-size=\"14.00\" fill=\"#000000\">samples = 33</text>\n<text text-anchor=\"middle\" x=\"2274\" y=\"-96.8\" font-family=\"Times,serif\" font-size=\"14.00\" fill=\"#000000\">value = [8, 0, 0, 0, 25, 0, 0, 0, 0, 0]</text>\n</g>\n<!-- 18&#45;&gt;19 -->\n<g id=\"edge19\" class=\"edge\">\n<title>18&#45;&gt;19</title>\n<path fill=\"none\" stroke=\"#000000\" d=\"M2516.7951,-192.9465C2477.7446,-181.6965 2434.2601,-169.1691 2395.0032,-157.8597\"/>\n<polygon fill=\"#000000\" stroke=\"#000000\" points=\"2395.6972,-154.4173 2385.119,-155.0121 2393.7593,-161.1437 2395.6972,-154.4173\"/>\n</g>\n<!-- 22 -->\n<g id=\"node23\" class=\"node\">\n<title>22</title>\n<polygon fill=\"none\" stroke=\"#000000\" points=\"2750,-157 2520,-157 2520,-89 2750,-89 2750,-157\"/>\n<text text-anchor=\"middle\" x=\"2635\" y=\"-141.8\" font-family=\"Times,serif\" font-size=\"14.00\" fill=\"#000000\">X[21] &lt;= 1.0</text>\n<text text-anchor=\"middle\" x=\"2635\" y=\"-126.8\" font-family=\"Times,serif\" font-size=\"14.00\" fill=\"#000000\">entropy = 0.634</text>\n<text text-anchor=\"middle\" x=\"2635\" y=\"-111.8\" font-family=\"Times,serif\" font-size=\"14.00\" fill=\"#000000\">samples = 122</text>\n<text text-anchor=\"middle\" x=\"2635\" y=\"-96.8\" font-family=\"Times,serif\" font-size=\"14.00\" fill=\"#000000\">value = [109, 0, 0, 2, 0, 1, 9, 1, 0, 0]</text>\n</g>\n<!-- 18&#45;&gt;22 -->\n<g id=\"edge22\" class=\"edge\">\n<title>18&#45;&gt;22</title>\n<path fill=\"none\" stroke=\"#000000\" d=\"M2635,-192.9465C2635,-184.776 2635,-175.9318 2635,-167.3697\"/>\n<polygon fill=\"#000000\" stroke=\"#000000\" points=\"2638.5001,-167.13 2635,-157.13 2631.5001,-167.13 2638.5001,-167.13\"/>\n</g>\n<!-- 20 -->\n<g id=\"node21\" class=\"node\">\n<title>20</title>\n<polygon fill=\"none\" stroke=\"#000000\" points=\"2144.5,-53 1929.5,-53 1929.5,0 2144.5,0 2144.5,-53\"/>\n<text text-anchor=\"middle\" x=\"2037\" y=\"-37.8\" font-family=\"Times,serif\" font-size=\"14.00\" fill=\"#000000\">entropy = 0.918</text>\n<text text-anchor=\"middle\" x=\"2037\" y=\"-22.8\" font-family=\"Times,serif\" font-size=\"14.00\" fill=\"#000000\">samples = 12</text>\n<text text-anchor=\"middle\" x=\"2037\" y=\"-7.8\" font-family=\"Times,serif\" font-size=\"14.00\" fill=\"#000000\">value = [8, 0, 0, 0, 4, 0, 0, 0, 0, 0]</text>\n</g>\n<!-- 19&#45;&gt;20 -->\n<g id=\"edge20\" class=\"edge\">\n<title>19&#45;&gt;20</title>\n<path fill=\"none\" stroke=\"#000000\" d=\"M2190.4427,-88.9777C2164.7993,-78.5364 2136.7584,-67.1189 2111.7439,-56.9337\"/>\n<polygon fill=\"#000000\" stroke=\"#000000\" points=\"2112.8979,-53.6246 2102.3163,-53.095 2110.2581,-60.1078 2112.8979,-53.6246\"/>\n</g>\n<!-- 21 -->\n<g id=\"node22\" class=\"node\">\n<title>21</title>\n<polygon fill=\"none\" stroke=\"#000000\" points=\"2385,-53 2163,-53 2163,0 2385,0 2385,-53\"/>\n<text text-anchor=\"middle\" x=\"2274\" y=\"-37.8\" font-family=\"Times,serif\" font-size=\"14.00\" fill=\"#000000\">entropy = 0.0</text>\n<text text-anchor=\"middle\" x=\"2274\" y=\"-22.8\" font-family=\"Times,serif\" font-size=\"14.00\" fill=\"#000000\">samples = 21</text>\n<text text-anchor=\"middle\" x=\"2274\" y=\"-7.8\" font-family=\"Times,serif\" font-size=\"14.00\" fill=\"#000000\">value = [0, 0, 0, 0, 21, 0, 0, 0, 0, 0]</text>\n</g>\n<!-- 19&#45;&gt;21 -->\n<g id=\"edge21\" class=\"edge\">\n<title>19&#45;&gt;21</title>\n<path fill=\"none\" stroke=\"#000000\" d=\"M2274,-88.9777C2274,-80.7364 2274,-71.887 2274,-63.5153\"/>\n<polygon fill=\"#000000\" stroke=\"#000000\" points=\"2277.5001,-63.2484 2274,-53.2485 2270.5001,-63.2485 2277.5001,-63.2484\"/>\n</g>\n<!-- 23 -->\n<g id=\"node24\" class=\"node\">\n<title>23</title>\n<polygon fill=\"none\" stroke=\"#000000\" points=\"2618.5,-53 2403.5,-53 2403.5,0 2618.5,0 2618.5,-53\"/>\n<text text-anchor=\"middle\" x=\"2511\" y=\"-37.8\" font-family=\"Times,serif\" font-size=\"14.00\" fill=\"#000000\">entropy = 0.866</text>\n<text text-anchor=\"middle\" x=\"2511\" y=\"-22.8\" font-family=\"Times,serif\" font-size=\"14.00\" fill=\"#000000\">samples = 11</text>\n<text text-anchor=\"middle\" x=\"2511\" y=\"-7.8\" font-family=\"Times,serif\" font-size=\"14.00\" fill=\"#000000\">value = [1, 0, 0, 0, 0, 1, 9, 0, 0, 0]</text>\n</g>\n<!-- 22&#45;&gt;23 -->\n<g id=\"edge23\" class=\"edge\">\n<title>22&#45;&gt;23</title>\n<path fill=\"none\" stroke=\"#000000\" d=\"M2591.2822,-88.9777C2579.0451,-79.4545 2565.7645,-69.1191 2553.5934,-59.6473\"/>\n<polygon fill=\"#000000\" stroke=\"#000000\" points=\"2555.4125,-56.628 2545.3711,-53.2485 2551.1134,-62.1523 2555.4125,-56.628\"/>\n</g>\n<!-- 24 -->\n<g id=\"node25\" class=\"node\">\n<title>24</title>\n<polygon fill=\"none\" stroke=\"#000000\" points=\"2867,-53 2637,-53 2637,0 2867,0 2867,-53\"/>\n<text text-anchor=\"middle\" x=\"2752\" y=\"-37.8\" font-family=\"Times,serif\" font-size=\"14.00\" fill=\"#000000\">entropy = 0.204</text>\n<text text-anchor=\"middle\" x=\"2752\" y=\"-22.8\" font-family=\"Times,serif\" font-size=\"14.00\" fill=\"#000000\">samples = 111</text>\n<text text-anchor=\"middle\" x=\"2752\" y=\"-7.8\" font-family=\"Times,serif\" font-size=\"14.00\" fill=\"#000000\">value = [108, 0, 0, 2, 0, 0, 0, 1, 0, 0]</text>\n</g>\n<!-- 22&#45;&gt;24 -->\n<g id=\"edge24\" class=\"edge\">\n<title>22&#45;&gt;24</title>\n<path fill=\"none\" stroke=\"#000000\" d=\"M2676.2498,-88.9777C2687.7961,-79.4545 2700.3271,-69.1191 2711.811,-59.6473\"/>\n<polygon fill=\"#000000\" stroke=\"#000000\" points=\"2714.0816,-62.3115 2719.5692,-53.2485 2709.6276,-56.9113 2714.0816,-62.3115\"/>\n</g>\n<!-- 26 -->\n<g id=\"node27\" class=\"node\">\n<title>26</title>\n<polygon fill=\"none\" stroke=\"#000000\" points=\"3223,-157 3001,-157 3001,-89 3223,-89 3223,-157\"/>\n<text text-anchor=\"middle\" x=\"3112\" y=\"-141.8\" font-family=\"Times,serif\" font-size=\"14.00\" fill=\"#000000\">X[25] &lt;= 1.5</text>\n<text text-anchor=\"middle\" x=\"3112\" y=\"-126.8\" font-family=\"Times,serif\" font-size=\"14.00\" fill=\"#000000\">entropy = 0.889</text>\n<text text-anchor=\"middle\" x=\"3112\" y=\"-111.8\" font-family=\"Times,serif\" font-size=\"14.00\" fill=\"#000000\">samples = 28</text>\n<text text-anchor=\"middle\" x=\"3112\" y=\"-96.8\" font-family=\"Times,serif\" font-size=\"14.00\" fill=\"#000000\">value = [0, 0, 0, 0, 5, 22, 1, 0, 0, 0]</text>\n</g>\n<!-- 25&#45;&gt;26 -->\n<g id=\"edge26\" class=\"edge\">\n<title>25&#45;&gt;26</title>\n<path fill=\"none\" stroke=\"#000000\" d=\"M3112,-192.9465C3112,-184.776 3112,-175.9318 3112,-167.3697\"/>\n<polygon fill=\"#000000\" stroke=\"#000000\" points=\"3115.5001,-167.13 3112,-157.13 3108.5001,-167.13 3115.5001,-167.13\"/>\n</g>\n<!-- 29 -->\n<g id=\"node30\" class=\"node\">\n<title>29</title>\n<polygon fill=\"none\" stroke=\"#000000\" points=\"3574.5,-157 3359.5,-157 3359.5,-89 3574.5,-89 3574.5,-157\"/>\n<text text-anchor=\"middle\" x=\"3467\" y=\"-141.8\" font-family=\"Times,serif\" font-size=\"14.00\" fill=\"#000000\">X[20] &lt;= 10.5</text>\n<text text-anchor=\"middle\" x=\"3467\" y=\"-126.8\" font-family=\"Times,serif\" font-size=\"14.00\" fill=\"#000000\">entropy = 1.571</text>\n<text text-anchor=\"middle\" x=\"3467\" y=\"-111.8\" font-family=\"Times,serif\" font-size=\"14.00\" fill=\"#000000\">samples = 10</text>\n<text text-anchor=\"middle\" x=\"3467\" y=\"-96.8\" font-family=\"Times,serif\" font-size=\"14.00\" fill=\"#000000\">value = [1, 6, 0, 0, 0, 1, 0, 0, 0, 2]</text>\n</g>\n<!-- 25&#45;&gt;29 -->\n<g id=\"edge29\" class=\"edge\">\n<title>25&#45;&gt;29</title>\n<path fill=\"none\" stroke=\"#000000\" d=\"M3223.3502,-194.3791C3263.5411,-182.6048 3309.0122,-169.2837 3349.6971,-157.3648\"/>\n<polygon fill=\"#000000\" stroke=\"#000000\" points=\"3350.7719,-160.6971 3359.3845,-154.5268 3348.8039,-153.9794 3350.7719,-160.6971\"/>\n</g>\n<!-- 27 -->\n<g id=\"node28\" class=\"node\">\n<title>27</title>\n<polygon fill=\"none\" stroke=\"#000000\" points=\"3100.5,-53 2885.5,-53 2885.5,0 3100.5,0 3100.5,-53\"/>\n<text text-anchor=\"middle\" x=\"2993\" y=\"-37.8\" font-family=\"Times,serif\" font-size=\"14.00\" fill=\"#000000\">entropy = 0.65</text>\n<text text-anchor=\"middle\" x=\"2993\" y=\"-22.8\" font-family=\"Times,serif\" font-size=\"14.00\" fill=\"#000000\">samples = 6</text>\n<text text-anchor=\"middle\" x=\"2993\" y=\"-7.8\" font-family=\"Times,serif\" font-size=\"14.00\" fill=\"#000000\">value = [0, 0, 0, 0, 5, 1, 0, 0, 0, 0]</text>\n</g>\n<!-- 26&#45;&gt;27 -->\n<g id=\"edge27\" class=\"edge\">\n<title>26&#45;&gt;27</title>\n<path fill=\"none\" stroke=\"#000000\" d=\"M3070.0451,-88.9777C3058.3014,-79.4545 3045.5562,-69.1191 3033.876,-59.6473\"/>\n<polygon fill=\"#000000\" stroke=\"#000000\" points=\"3035.9568,-56.8286 3025.9852,-53.2485 3031.5478,-62.2656 3035.9568,-56.8286\"/>\n</g>\n<!-- 28 -->\n<g id=\"node29\" class=\"node\">\n<title>28</title>\n<polygon fill=\"none\" stroke=\"#000000\" points=\"3341,-53 3119,-53 3119,0 3341,0 3341,-53\"/>\n<text text-anchor=\"middle\" x=\"3230\" y=\"-37.8\" font-family=\"Times,serif\" font-size=\"14.00\" fill=\"#000000\">entropy = 0.267</text>\n<text text-anchor=\"middle\" x=\"3230\" y=\"-22.8\" font-family=\"Times,serif\" font-size=\"14.00\" fill=\"#000000\">samples = 22</text>\n<text text-anchor=\"middle\" x=\"3230\" y=\"-7.8\" font-family=\"Times,serif\" font-size=\"14.00\" fill=\"#000000\">value = [0, 0, 0, 0, 0, 21, 1, 0, 0, 0]</text>\n</g>\n<!-- 26&#45;&gt;28 -->\n<g id=\"edge28\" class=\"edge\">\n<title>26&#45;&gt;28</title>\n<path fill=\"none\" stroke=\"#000000\" d=\"M3153.6024,-88.9777C3165.2474,-79.4545 3177.8854,-69.1191 3189.4675,-59.6473\"/>\n<polygon fill=\"#000000\" stroke=\"#000000\" points=\"3191.7667,-62.2885 3197.292,-53.2485 3187.3352,-56.8697 3191.7667,-62.2885\"/>\n</g>\n<!-- 30 -->\n<g id=\"node31\" class=\"node\">\n<title>30</title>\n<polygon fill=\"none\" stroke=\"#000000\" points=\"3574.5,-53 3359.5,-53 3359.5,0 3574.5,0 3574.5,-53\"/>\n<text text-anchor=\"middle\" x=\"3467\" y=\"-37.8\" font-family=\"Times,serif\" font-size=\"14.00\" fill=\"#000000\">entropy = 1.5</text>\n<text text-anchor=\"middle\" x=\"3467\" y=\"-22.8\" font-family=\"Times,serif\" font-size=\"14.00\" fill=\"#000000\">samples = 4</text>\n<text text-anchor=\"middle\" x=\"3467\" y=\"-7.8\" font-family=\"Times,serif\" font-size=\"14.00\" fill=\"#000000\">value = [1, 0, 0, 0, 0, 1, 0, 0, 0, 2]</text>\n</g>\n<!-- 29&#45;&gt;30 -->\n<g id=\"edge30\" class=\"edge\">\n<title>29&#45;&gt;30</title>\n<path fill=\"none\" stroke=\"#000000\" d=\"M3467,-88.9777C3467,-80.7364 3467,-71.887 3467,-63.5153\"/>\n<polygon fill=\"#000000\" stroke=\"#000000\" points=\"3470.5001,-63.2484 3467,-53.2485 3463.5001,-63.2485 3470.5001,-63.2484\"/>\n</g>\n<!-- 31 -->\n<g id=\"node32\" class=\"node\">\n<title>31</title>\n<polygon fill=\"none\" stroke=\"#000000\" points=\"3807.5,-53 3592.5,-53 3592.5,0 3807.5,0 3807.5,-53\"/>\n<text text-anchor=\"middle\" x=\"3700\" y=\"-37.8\" font-family=\"Times,serif\" font-size=\"14.00\" fill=\"#000000\">entropy = 0.0</text>\n<text text-anchor=\"middle\" x=\"3700\" y=\"-22.8\" font-family=\"Times,serif\" font-size=\"14.00\" fill=\"#000000\">samples = 6</text>\n<text text-anchor=\"middle\" x=\"3700\" y=\"-7.8\" font-family=\"Times,serif\" font-size=\"14.00\" fill=\"#000000\">value = [0, 6, 0, 0, 0, 0, 0, 0, 0, 0]</text>\n</g>\n<!-- 29&#45;&gt;31 -->\n<g id=\"edge31\" class=\"edge\">\n<title>29&#45;&gt;31</title>\n<path fill=\"none\" stroke=\"#000000\" d=\"M3549.1471,-88.9777C3574.3576,-78.5364 3601.9253,-67.1189 3626.5176,-56.9337\"/>\n<polygon fill=\"#000000\" stroke=\"#000000\" points=\"3627.8864,-60.1552 3635.7861,-53.095 3625.2079,-53.6879 3627.8864,-60.1552\"/>\n</g>\n<!-- 33 -->\n<g id=\"node34\" class=\"node\">\n<title>33</title>\n<polygon fill=\"none\" stroke=\"#000000\" points=\"4847,-365 4545,-365 4545,-297 4847,-297 4847,-365\"/>\n<text text-anchor=\"middle\" x=\"4696\" y=\"-349.8\" font-family=\"Times,serif\" font-size=\"14.00\" fill=\"#000000\">X[61] &lt;= 1.5</text>\n<text text-anchor=\"middle\" x=\"4696\" y=\"-334.8\" font-family=\"Times,serif\" font-size=\"14.00\" fill=\"#000000\">entropy = 2.956</text>\n<text text-anchor=\"middle\" x=\"4696\" y=\"-319.8\" font-family=\"Times,serif\" font-size=\"14.00\" fill=\"#000000\">samples = 637</text>\n<text text-anchor=\"middle\" x=\"4696\" y=\"-304.8\" font-family=\"Times,serif\" font-size=\"14.00\" fill=\"#000000\">value = [2, 110, 78, 24, 85, 64, 18, 114, 117, 25]</text>\n</g>\n<!-- 32&#45;&gt;33 -->\n<g id=\"edge33\" class=\"edge\">\n<title>32&#45;&gt;33</title>\n<path fill=\"none\" stroke=\"#000000\" d=\"M4696,-400.9465C4696,-392.776 4696,-383.9318 4696,-375.3697\"/>\n<polygon fill=\"#000000\" stroke=\"#000000\" points=\"4699.5001,-375.13 4696,-365.13 4692.5001,-375.13 4699.5001,-375.13\"/>\n</g>\n<!-- 48 -->\n<g id=\"node49\" class=\"node\">\n<title>48</title>\n<polygon fill=\"none\" stroke=\"#000000\" points=\"6418.5,-365 6159.5,-365 6159.5,-297 6418.5,-297 6418.5,-365\"/>\n<text text-anchor=\"middle\" x=\"6289\" y=\"-349.8\" font-family=\"Times,serif\" font-size=\"14.00\" fill=\"#000000\">X[34] &lt;= 11.5</text>\n<text text-anchor=\"middle\" x=\"6289\" y=\"-334.8\" font-family=\"Times,serif\" font-size=\"14.00\" fill=\"#000000\">entropy = 2.28</text>\n<text text-anchor=\"middle\" x=\"6289\" y=\"-319.8\" font-family=\"Times,serif\" font-size=\"14.00\" fill=\"#000000\">samples = 199</text>\n<text text-anchor=\"middle\" x=\"6289\" y=\"-304.8\" font-family=\"Times,serif\" font-size=\"14.00\" fill=\"#000000\">value = [5, 1, 8, 30, 6, 11, 100, 0, 12, 26]</text>\n</g>\n<!-- 32&#45;&gt;48 -->\n<g id=\"edge48\" class=\"edge\">\n<title>32&#45;&gt;48</title>\n<path fill=\"none\" stroke=\"#000000\" d=\"M4850.5537,-424.9099C5160.1038,-404.7007 5851.8613,-359.5389 6148.9941,-340.1404\"/>\n<polygon fill=\"#000000\" stroke=\"#000000\" points=\"6149.6456,-343.6054 6159.3963,-339.4613 6149.1895,-336.6203 6149.6456,-343.6054\"/>\n</g>\n<!-- 34 -->\n<g id=\"node35\" class=\"node\">\n<title>34</title>\n<polygon fill=\"none\" stroke=\"#000000\" points=\"4700.5,-261 4441.5,-261 4441.5,-193 4700.5,-193 4700.5,-261\"/>\n<text text-anchor=\"middle\" x=\"4571\" y=\"-245.8\" font-family=\"Times,serif\" font-size=\"14.00\" fill=\"#000000\">X[26] &lt;= 12.5</text>\n<text text-anchor=\"middle\" x=\"4571\" y=\"-230.8\" font-family=\"Times,serif\" font-size=\"14.00\" fill=\"#000000\">entropy = 2.407</text>\n<text text-anchor=\"middle\" x=\"4571\" y=\"-215.8\" font-family=\"Times,serif\" font-size=\"14.00\" fill=\"#000000\">samples = 301</text>\n<text text-anchor=\"middle\" x=\"4571\" y=\"-200.8\" font-family=\"Times,serif\" font-size=\"14.00\" fill=\"#000000\">value = [1, 31, 0, 8, 57, 51, 1, 114, 32, 6]</text>\n</g>\n<!-- 33&#45;&gt;34 -->\n<g id=\"edge34\" class=\"edge\">\n<title>33&#45;&gt;34</title>\n<path fill=\"none\" stroke=\"#000000\" d=\"M4655.0703,-296.9465C4643.8472,-287.6088 4631.5663,-277.3911 4619.9427,-267.7203\"/>\n<polygon fill=\"#000000\" stroke=\"#000000\" points=\"4621.9474,-264.8353 4612.0216,-261.13 4617.4704,-270.2164 4621.9474,-264.8353\"/>\n</g>\n<!-- 41 -->\n<g id=\"node42\" class=\"node\">\n<title>41</title>\n<polygon fill=\"none\" stroke=\"#000000\" points=\"5193.5,-261 4918.5,-261 4918.5,-193 5193.5,-193 5193.5,-261\"/>\n<text text-anchor=\"middle\" x=\"5056\" y=\"-245.8\" font-family=\"Times,serif\" font-size=\"14.00\" fill=\"#000000\">X[34] &lt;= 8.5</text>\n<text text-anchor=\"middle\" x=\"5056\" y=\"-230.8\" font-family=\"Times,serif\" font-size=\"14.00\" fill=\"#000000\">entropy = 2.648</text>\n<text text-anchor=\"middle\" x=\"5056\" y=\"-215.8\" font-family=\"Times,serif\" font-size=\"14.00\" fill=\"#000000\">samples = 336</text>\n<text text-anchor=\"middle\" x=\"5056\" y=\"-200.8\" font-family=\"Times,serif\" font-size=\"14.00\" fill=\"#000000\">value = [1, 79, 78, 16, 28, 13, 17, 0, 85, 19]</text>\n</g>\n<!-- 33&#45;&gt;41 -->\n<g id=\"edge41\" class=\"edge\">\n<title>33&#45;&gt;41</title>\n<path fill=\"none\" stroke=\"#000000\" d=\"M4813.8775,-296.9465C4850.49,-286.3695 4891.0111,-274.6635 4928.2623,-263.902\"/>\n<polygon fill=\"#000000\" stroke=\"#000000\" points=\"4929.5296,-267.1791 4938.1654,-261.0411 4927.5868,-260.4541 4929.5296,-267.1791\"/>\n</g>\n<!-- 35 -->\n<g id=\"node36\" class=\"node\">\n<title>35</title>\n<polygon fill=\"none\" stroke=\"#000000\" points=\"4321.5,-157 4070.5,-157 4070.5,-89 4321.5,-89 4321.5,-157\"/>\n<text text-anchor=\"middle\" x=\"4196\" y=\"-141.8\" font-family=\"Times,serif\" font-size=\"14.00\" fill=\"#000000\">X[19] &lt;= 10.5</text>\n<text text-anchor=\"middle\" x=\"4196\" y=\"-126.8\" font-family=\"Times,serif\" font-size=\"14.00\" fill=\"#000000\">entropy = 1.821</text>\n<text text-anchor=\"middle\" x=\"4196\" y=\"-111.8\" font-family=\"Times,serif\" font-size=\"14.00\" fill=\"#000000\">samples = 186</text>\n<text text-anchor=\"middle\" x=\"4196\" y=\"-96.8\" font-family=\"Times,serif\" font-size=\"14.00\" fill=\"#000000\">value = [0, 25, 0, 8, 2, 14, 0, 110, 26, 1]</text>\n</g>\n<!-- 34&#45;&gt;35 -->\n<g id=\"edge35\" class=\"edge\">\n<title>34&#45;&gt;35</title>\n<path fill=\"none\" stroke=\"#000000\" d=\"M4448.211,-192.9465C4409.9106,-182.3245 4367.5042,-170.5638 4328.5649,-159.7647\"/>\n<polygon fill=\"#000000\" stroke=\"#000000\" points=\"4329.3161,-156.341 4318.7444,-157.0411 4327.4453,-163.0864 4329.3161,-156.341\"/>\n</g>\n<!-- 38 -->\n<g id=\"node39\" class=\"node\">\n<title>38</title>\n<polygon fill=\"none\" stroke=\"#000000\" points=\"4686,-157 4456,-157 4456,-89 4686,-89 4686,-157\"/>\n<text text-anchor=\"middle\" x=\"4571\" y=\"-141.8\" font-family=\"Times,serif\" font-size=\"14.00\" fill=\"#000000\">X[1] &lt;= 0.5</text>\n<text text-anchor=\"middle\" x=\"4571\" y=\"-126.8\" font-family=\"Times,serif\" font-size=\"14.00\" fill=\"#000000\">entropy = 1.964</text>\n<text text-anchor=\"middle\" x=\"4571\" y=\"-111.8\" font-family=\"Times,serif\" font-size=\"14.00\" fill=\"#000000\">samples = 115</text>\n<text text-anchor=\"middle\" x=\"4571\" y=\"-96.8\" font-family=\"Times,serif\" font-size=\"14.00\" fill=\"#000000\">value = [1, 6, 0, 0, 55, 37, 1, 4, 6, 5]</text>\n</g>\n<!-- 34&#45;&gt;38 -->\n<g id=\"edge38\" class=\"edge\">\n<title>34&#45;&gt;38</title>\n<path fill=\"none\" stroke=\"#000000\" d=\"M4571,-192.9465C4571,-184.776 4571,-175.9318 4571,-167.3697\"/>\n<polygon fill=\"#000000\" stroke=\"#000000\" points=\"4574.5001,-167.13 4571,-157.13 4567.5001,-167.13 4574.5001,-167.13\"/>\n</g>\n<!-- 36 -->\n<g id=\"node37\" class=\"node\">\n<title>36</title>\n<polygon fill=\"none\" stroke=\"#000000\" points=\"4062.5,-53 3825.5,-53 3825.5,0 4062.5,0 4062.5,-53\"/>\n<text text-anchor=\"middle\" x=\"3944\" y=\"-37.8\" font-family=\"Times,serif\" font-size=\"14.00\" fill=\"#000000\">entropy = 1.174</text>\n<text text-anchor=\"middle\" x=\"3944\" y=\"-22.8\" font-family=\"Times,serif\" font-size=\"14.00\" fill=\"#000000\">samples = 134</text>\n<text text-anchor=\"middle\" x=\"3944\" y=\"-7.8\" font-family=\"Times,serif\" font-size=\"14.00\" fill=\"#000000\">value = [0, 0, 0, 8, 2, 6, 0, 105, 12, 1]</text>\n</g>\n<!-- 35&#45;&gt;36 -->\n<g id=\"edge36\" class=\"edge\">\n<title>35&#45;&gt;36</title>\n<path fill=\"none\" stroke=\"#000000\" d=\"M4107.1542,-88.9777C4079.7678,-78.4904 4049.8095,-67.0183 4023.1232,-56.7992\"/>\n<polygon fill=\"#000000\" stroke=\"#000000\" points=\"4024.0406,-53.4027 4013.4502,-53.095 4021.5373,-59.9398 4024.0406,-53.4027\"/>\n</g>\n<!-- 37 -->\n<g id=\"node38\" class=\"node\">\n<title>37</title>\n<polygon fill=\"none\" stroke=\"#000000\" points=\"4311,-53 4081,-53 4081,0 4311,0 4311,-53\"/>\n<text text-anchor=\"middle\" x=\"4196\" y=\"-37.8\" font-family=\"Times,serif\" font-size=\"14.00\" fill=\"#000000\">entropy = 1.758</text>\n<text text-anchor=\"middle\" x=\"4196\" y=\"-22.8\" font-family=\"Times,serif\" font-size=\"14.00\" fill=\"#000000\">samples = 52</text>\n<text text-anchor=\"middle\" x=\"4196\" y=\"-7.8\" font-family=\"Times,serif\" font-size=\"14.00\" fill=\"#000000\">value = [0, 25, 0, 0, 0, 8, 0, 5, 14, 0]</text>\n</g>\n<!-- 35&#45;&gt;37 -->\n<g id=\"edge37\" class=\"edge\">\n<title>35&#45;&gt;37</title>\n<path fill=\"none\" stroke=\"#000000\" d=\"M4196,-88.9777C4196,-80.7364 4196,-71.887 4196,-63.5153\"/>\n<polygon fill=\"#000000\" stroke=\"#000000\" points=\"4199.5001,-63.2484 4196,-53.2485 4192.5001,-63.2485 4199.5001,-63.2484\"/>\n</g>\n<!-- 39 -->\n<g id=\"node40\" class=\"node\">\n<title>39</title>\n<polygon fill=\"none\" stroke=\"#000000\" points=\"4559,-53 4329,-53 4329,0 4559,0 4559,-53\"/>\n<text text-anchor=\"middle\" x=\"4444\" y=\"-37.8\" font-family=\"Times,serif\" font-size=\"14.00\" fill=\"#000000\">entropy = 1.896</text>\n<text text-anchor=\"middle\" x=\"4444\" y=\"-22.8\" font-family=\"Times,serif\" font-size=\"14.00\" fill=\"#000000\">samples = 91</text>\n<text text-anchor=\"middle\" x=\"4444\" y=\"-7.8\" font-family=\"Times,serif\" font-size=\"14.00\" fill=\"#000000\">value = [1, 6, 0, 0, 55, 15, 1, 4, 4, 5]</text>\n</g>\n<!-- 38&#45;&gt;39 -->\n<g id=\"edge39\" class=\"edge\">\n<title>38&#45;&gt;39</title>\n<path fill=\"none\" stroke=\"#000000\" d=\"M4526.2246,-88.9777C4513.5708,-79.3629 4499.8277,-68.9203 4487.2647,-59.3743\"/>\n<polygon fill=\"#000000\" stroke=\"#000000\" points=\"4489.2824,-56.5118 4479.2027,-53.2485 4485.0474,-62.0853 4489.2824,-56.5118\"/>\n</g>\n<!-- 40 -->\n<g id=\"node41\" class=\"node\">\n<title>40</title>\n<polygon fill=\"none\" stroke=\"#000000\" points=\"4799,-53 4577,-53 4577,0 4799,0 4799,-53\"/>\n<text text-anchor=\"middle\" x=\"4688\" y=\"-37.8\" font-family=\"Times,serif\" font-size=\"14.00\" fill=\"#000000\">entropy = 0.414</text>\n<text text-anchor=\"middle\" x=\"4688\" y=\"-22.8\" font-family=\"Times,serif\" font-size=\"14.00\" fill=\"#000000\">samples = 24</text>\n<text text-anchor=\"middle\" x=\"4688\" y=\"-7.8\" font-family=\"Times,serif\" font-size=\"14.00\" fill=\"#000000\">value = [0, 0, 0, 0, 0, 22, 0, 0, 2, 0]</text>\n</g>\n<!-- 38&#45;&gt;40 -->\n<g id=\"edge40\" class=\"edge\">\n<title>38&#45;&gt;40</title>\n<path fill=\"none\" stroke=\"#000000\" d=\"M4612.2498,-88.9777C4623.7961,-79.4545 4636.3271,-69.1191 4647.811,-59.6473\"/>\n<polygon fill=\"#000000\" stroke=\"#000000\" points=\"4650.0816,-62.3115 4655.5692,-53.2485 4645.6276,-56.9113 4650.0816,-62.3115\"/>\n</g>\n<!-- 42 -->\n<g id=\"node43\" class=\"node\">\n<title>42</title>\n<polygon fill=\"none\" stroke=\"#000000\" points=\"5182,-157 4930,-157 4930,-89 5182,-89 5182,-157\"/>\n<text text-anchor=\"middle\" x=\"5056\" y=\"-141.8\" font-family=\"Times,serif\" font-size=\"14.00\" fill=\"#000000\">X[43] &lt;= 4.5</text>\n<text text-anchor=\"middle\" x=\"5056\" y=\"-126.8\" font-family=\"Times,serif\" font-size=\"14.00\" fill=\"#000000\">entropy = 2.109</text>\n<text text-anchor=\"middle\" x=\"5056\" y=\"-111.8\" font-family=\"Times,serif\" font-size=\"14.00\" fill=\"#000000\">samples = 208</text>\n<text text-anchor=\"middle\" x=\"5056\" y=\"-96.8\" font-family=\"Times,serif\" font-size=\"14.00\" fill=\"#000000\">value = [0, 42, 76, 15, 0, 4, 0, 0, 61, 10]</text>\n</g>\n<!-- 41&#45;&gt;42 -->\n<g id=\"edge42\" class=\"edge\">\n<title>41&#45;&gt;42</title>\n<path fill=\"none\" stroke=\"#000000\" d=\"M5056,-192.9465C5056,-184.776 5056,-175.9318 5056,-167.3697\"/>\n<polygon fill=\"#000000\" stroke=\"#000000\" points=\"5059.5001,-167.13 5056,-157.13 5052.5001,-167.13 5059.5001,-167.13\"/>\n</g>\n<!-- 45 -->\n<g id=\"node46\" class=\"node\">\n<title>45</title>\n<polygon fill=\"none\" stroke=\"#000000\" points=\"5565.5,-157 5320.5,-157 5320.5,-89 5565.5,-89 5565.5,-157\"/>\n<text text-anchor=\"middle\" x=\"5443\" y=\"-141.8\" font-family=\"Times,serif\" font-size=\"14.00\" fill=\"#000000\">X[28] &lt;= 9.5</text>\n<text text-anchor=\"middle\" x=\"5443\" y=\"-126.8\" font-family=\"Times,serif\" font-size=\"14.00\" fill=\"#000000\">entropy = 2.579</text>\n<text text-anchor=\"middle\" x=\"5443\" y=\"-111.8\" font-family=\"Times,serif\" font-size=\"14.00\" fill=\"#000000\">samples = 128</text>\n<text text-anchor=\"middle\" x=\"5443\" y=\"-96.8\" font-family=\"Times,serif\" font-size=\"14.00\" fill=\"#000000\">value = [1, 37, 2, 1, 28, 9, 17, 0, 24, 9]</text>\n</g>\n<!-- 41&#45;&gt;45 -->\n<g id=\"edge45\" class=\"edge\">\n<title>41&#45;&gt;45</title>\n<path fill=\"none\" stroke=\"#000000\" d=\"M5182.7183,-192.9465C5223.6362,-181.9505 5269.0953,-169.7341 5310.4249,-158.6274\"/>\n<polygon fill=\"#000000\" stroke=\"#000000\" points=\"5311.5318,-161.9542 5320.2808,-155.9788 5309.7151,-155.1941 5311.5318,-161.9542\"/>\n</g>\n<!-- 43 -->\n<g id=\"node44\" class=\"node\">\n<title>43</title>\n<polygon fill=\"none\" stroke=\"#000000\" points=\"5054.5,-53 4817.5,-53 4817.5,0 5054.5,0 5054.5,-53\"/>\n<text text-anchor=\"middle\" x=\"4936\" y=\"-37.8\" font-family=\"Times,serif\" font-size=\"14.00\" fill=\"#000000\">entropy = 2.226</text>\n<text text-anchor=\"middle\" x=\"4936\" y=\"-22.8\" font-family=\"Times,serif\" font-size=\"14.00\" fill=\"#000000\">samples = 49</text>\n<text text-anchor=\"middle\" x=\"4936\" y=\"-7.8\" font-family=\"Times,serif\" font-size=\"14.00\" fill=\"#000000\">value = [0, 9, 0, 14, 0, 4, 0, 0, 12, 10]</text>\n</g>\n<!-- 42&#45;&gt;43 -->\n<g id=\"edge43\" class=\"edge\">\n<title>42&#45;&gt;43</title>\n<path fill=\"none\" stroke=\"#000000\" d=\"M5013.6925,-88.9777C5001.8501,-79.4545 4988.9979,-69.1191 4977.2195,-59.6473\"/>\n<polygon fill=\"#000000\" stroke=\"#000000\" points=\"4979.2486,-56.7877 4969.2624,-53.2485 4974.8618,-62.2427 4979.2486,-56.7877\"/>\n</g>\n<!-- 44 -->\n<g id=\"node45\" class=\"node\">\n<title>44</title>\n<polygon fill=\"none\" stroke=\"#000000\" points=\"5309.5,-53 5072.5,-53 5072.5,0 5309.5,0 5309.5,-53\"/>\n<text text-anchor=\"middle\" x=\"5191\" y=\"-37.8\" font-family=\"Times,serif\" font-size=\"14.00\" fill=\"#000000\">entropy = 1.549</text>\n<text text-anchor=\"middle\" x=\"5191\" y=\"-22.8\" font-family=\"Times,serif\" font-size=\"14.00\" fill=\"#000000\">samples = 159</text>\n<text text-anchor=\"middle\" x=\"5191\" y=\"-7.8\" font-family=\"Times,serif\" font-size=\"14.00\" fill=\"#000000\">value = [0, 33, 76, 1, 0, 0, 0, 0, 49, 0]</text>\n</g>\n<!-- 42&#45;&gt;44 -->\n<g id=\"edge44\" class=\"edge\">\n<title>42&#45;&gt;44</title>\n<path fill=\"none\" stroke=\"#000000\" d=\"M5103.5959,-88.9777C5117.1748,-79.2713 5131.9339,-68.7213 5145.3912,-59.1018\"/>\n<polygon fill=\"#000000\" stroke=\"#000000\" points=\"5147.4799,-61.9111 5153.5798,-53.2485 5143.4092,-56.2164 5147.4799,-61.9111\"/>\n</g>\n<!-- 46 -->\n<g id=\"node47\" class=\"node\">\n<title>46</title>\n<polygon fill=\"none\" stroke=\"#000000\" points=\"5558,-53 5328,-53 5328,0 5558,0 5558,-53\"/>\n<text text-anchor=\"middle\" x=\"5443\" y=\"-37.8\" font-family=\"Times,serif\" font-size=\"14.00\" fill=\"#000000\">entropy = 2.202</text>\n<text text-anchor=\"middle\" x=\"5443\" y=\"-22.8\" font-family=\"Times,serif\" font-size=\"14.00\" fill=\"#000000\">samples = 59</text>\n<text text-anchor=\"middle\" x=\"5443\" y=\"-7.8\" font-family=\"Times,serif\" font-size=\"14.00\" fill=\"#000000\">value = [1, 5, 2, 1, 24, 8, 17, 0, 1, 0]</text>\n</g>\n<!-- 45&#45;&gt;46 -->\n<g id=\"edge46\" class=\"edge\">\n<title>45&#45;&gt;46</title>\n<path fill=\"none\" stroke=\"#000000\" d=\"M5443,-88.9777C5443,-80.7364 5443,-71.887 5443,-63.5153\"/>\n<polygon fill=\"#000000\" stroke=\"#000000\" points=\"5446.5001,-63.2484 5443,-53.2485 5439.5001,-63.2485 5446.5001,-63.2484\"/>\n</g>\n<!-- 47 -->\n<g id=\"node48\" class=\"node\">\n<title>47</title>\n<polygon fill=\"none\" stroke=\"#000000\" points=\"5806,-53 5576,-53 5576,0 5806,0 5806,-53\"/>\n<text text-anchor=\"middle\" x=\"5691\" y=\"-37.8\" font-family=\"Times,serif\" font-size=\"14.00\" fill=\"#000000\">entropy = 1.752</text>\n<text text-anchor=\"middle\" x=\"5691\" y=\"-22.8\" font-family=\"Times,serif\" font-size=\"14.00\" fill=\"#000000\">samples = 69</text>\n<text text-anchor=\"middle\" x=\"5691\" y=\"-7.8\" font-family=\"Times,serif\" font-size=\"14.00\" fill=\"#000000\">value = [0, 32, 0, 0, 4, 1, 0, 0, 23, 9]</text>\n</g>\n<!-- 45&#45;&gt;47 -->\n<g id=\"edge47\" class=\"edge\">\n<title>45&#45;&gt;47</title>\n<path fill=\"none\" stroke=\"#000000\" d=\"M5530.4355,-88.9777C5557.3873,-78.4904 5586.87,-67.0183 5613.1328,-56.7992\"/>\n<polygon fill=\"#000000\" stroke=\"#000000\" points=\"5614.602,-59.9831 5622.6522,-53.095 5612.0636,-53.4596 5614.602,-59.9831\"/>\n</g>\n<!-- 49 -->\n<g id=\"node50\" class=\"node\">\n<title>49</title>\n<polygon fill=\"none\" stroke=\"#000000\" points=\"6404,-261 6174,-261 6174,-193 6404,-193 6404,-261\"/>\n<text text-anchor=\"middle\" x=\"6289\" y=\"-245.8\" font-family=\"Times,serif\" font-size=\"14.00\" fill=\"#000000\">X[36] &lt;= 12.5</text>\n<text text-anchor=\"middle\" x=\"6289\" y=\"-230.8\" font-family=\"Times,serif\" font-size=\"14.00\" fill=\"#000000\">entropy = 2.327</text>\n<text text-anchor=\"middle\" x=\"6289\" y=\"-215.8\" font-family=\"Times,serif\" font-size=\"14.00\" fill=\"#000000\">samples = 82</text>\n<text text-anchor=\"middle\" x=\"6289\" y=\"-200.8\" font-family=\"Times,serif\" font-size=\"14.00\" fill=\"#000000\">value = [0, 1, 8, 30, 0, 5, 7, 0, 8, 23]</text>\n</g>\n<!-- 48&#45;&gt;49 -->\n<g id=\"edge49\" class=\"edge\">\n<title>48&#45;&gt;49</title>\n<path fill=\"none\" stroke=\"#000000\" d=\"M6289,-296.9465C6289,-288.776 6289,-279.9318 6289,-271.3697\"/>\n<polygon fill=\"#000000\" stroke=\"#000000\" points=\"6292.5001,-271.13 6289,-261.13 6285.5001,-271.13 6292.5001,-271.13\"/>\n</g>\n<!-- 56 -->\n<g id=\"node57\" class=\"node\">\n<title>56</title>\n<polygon fill=\"none\" stroke=\"#000000\" points=\"7110,-261 6888,-261 6888,-193 7110,-193 7110,-261\"/>\n<text text-anchor=\"middle\" x=\"6999\" y=\"-245.8\" font-family=\"Times,serif\" font-size=\"14.00\" fill=\"#000000\">X[10] &lt;= 12.5</text>\n<text text-anchor=\"middle\" x=\"6999\" y=\"-230.8\" font-family=\"Times,serif\" font-size=\"14.00\" fill=\"#000000\">entropy = 1.199</text>\n<text text-anchor=\"middle\" x=\"6999\" y=\"-215.8\" font-family=\"Times,serif\" font-size=\"14.00\" fill=\"#000000\">samples = 117</text>\n<text text-anchor=\"middle\" x=\"6999\" y=\"-200.8\" font-family=\"Times,serif\" font-size=\"14.00\" fill=\"#000000\">value = [5, 0, 0, 0, 6, 6, 93, 0, 4, 3]</text>\n</g>\n<!-- 48&#45;&gt;56 -->\n<g id=\"edge56\" class=\"edge\">\n<title>48&#45;&gt;56</title>\n<path fill=\"none\" stroke=\"#000000\" d=\"M6418.8119,-311.9853C6549.6219,-292.8244 6749.9061,-263.487 6877.6258,-244.7787\"/>\n<polygon fill=\"#000000\" stroke=\"#000000\" points=\"6878.4527,-248.1951 6887.8398,-243.2826 6877.4381,-241.269 6878.4527,-248.1951\"/>\n</g>\n<!-- 50 -->\n<g id=\"node51\" class=\"node\">\n<title>50</title>\n<polygon fill=\"none\" stroke=\"#000000\" points=\"6280,-157 6058,-157 6058,-89 6280,-89 6280,-157\"/>\n<text text-anchor=\"middle\" x=\"6169\" y=\"-141.8\" font-family=\"Times,serif\" font-size=\"14.00\" fill=\"#000000\">X[26] &lt;= 6.0</text>\n<text text-anchor=\"middle\" x=\"6169\" y=\"-126.8\" font-family=\"Times,serif\" font-size=\"14.00\" fill=\"#000000\">entropy = 1.909</text>\n<text text-anchor=\"middle\" x=\"6169\" y=\"-111.8\" font-family=\"Times,serif\" font-size=\"14.00\" fill=\"#000000\">samples = 34</text>\n<text text-anchor=\"middle\" x=\"6169\" y=\"-96.8\" font-family=\"Times,serif\" font-size=\"14.00\" fill=\"#000000\">value = [0, 0, 7, 7, 0, 3, 1, 0, 0, 16]</text>\n</g>\n<!-- 49&#45;&gt;50 -->\n<g id=\"edge50\" class=\"edge\">\n<title>49&#45;&gt;50</title>\n<path fill=\"none\" stroke=\"#000000\" d=\"M6249.7075,-192.9465C6238.9333,-183.6088 6227.1436,-173.3911 6215.985,-163.7203\"/>\n<polygon fill=\"#000000\" stroke=\"#000000\" points=\"6218.2299,-161.0344 6208.3808,-157.13 6213.6454,-166.3243 6218.2299,-161.0344\"/>\n</g>\n<!-- 53 -->\n<g id=\"node54\" class=\"node\">\n<title>53</title>\n<polygon fill=\"none\" stroke=\"#000000\" points=\"6520,-157 6298,-157 6298,-89 6520,-89 6520,-157\"/>\n<text text-anchor=\"middle\" x=\"6409\" y=\"-141.8\" font-family=\"Times,serif\" font-size=\"14.00\" fill=\"#000000\">X[30] &lt;= 1.0</text>\n<text text-anchor=\"middle\" x=\"6409\" y=\"-126.8\" font-family=\"Times,serif\" font-size=\"14.00\" fill=\"#000000\">entropy = 2.143</text>\n<text text-anchor=\"middle\" x=\"6409\" y=\"-111.8\" font-family=\"Times,serif\" font-size=\"14.00\" fill=\"#000000\">samples = 48</text>\n<text text-anchor=\"middle\" x=\"6409\" y=\"-96.8\" font-family=\"Times,serif\" font-size=\"14.00\" fill=\"#000000\">value = [0, 1, 1, 23, 0, 2, 6, 0, 8, 7]</text>\n</g>\n<!-- 49&#45;&gt;53 -->\n<g id=\"edge53\" class=\"edge\">\n<title>49&#45;&gt;53</title>\n<path fill=\"none\" stroke=\"#000000\" d=\"M6328.2925,-192.9465C6339.0667,-183.6088 6350.8564,-173.3911 6362.015,-163.7203\"/>\n<polygon fill=\"#000000\" stroke=\"#000000\" points=\"6364.3546,-166.3243 6369.6192,-157.13 6359.7701,-161.0344 6364.3546,-166.3243\"/>\n</g>\n<!-- 51 -->\n<g id=\"node52\" class=\"node\">\n<title>51</title>\n<polygon fill=\"none\" stroke=\"#000000\" points=\"6039.5,-53 5824.5,-53 5824.5,0 6039.5,0 6039.5,-53\"/>\n<text text-anchor=\"middle\" x=\"5932\" y=\"-37.8\" font-family=\"Times,serif\" font-size=\"14.00\" fill=\"#000000\">entropy = 1.296</text>\n<text text-anchor=\"middle\" x=\"5932\" y=\"-22.8\" font-family=\"Times,serif\" font-size=\"14.00\" fill=\"#000000\">samples = 14</text>\n<text text-anchor=\"middle\" x=\"5932\" y=\"-7.8\" font-family=\"Times,serif\" font-size=\"14.00\" fill=\"#000000\">value = [0, 0, 7, 6, 0, 0, 1, 0, 0, 0]</text>\n</g>\n<!-- 50&#45;&gt;51 -->\n<g id=\"edge51\" class=\"edge\">\n<title>50&#45;&gt;51</title>\n<path fill=\"none\" stroke=\"#000000\" d=\"M6085.4427,-88.9777C6059.7993,-78.5364 6031.7584,-67.1189 6006.7439,-56.9337\"/>\n<polygon fill=\"#000000\" stroke=\"#000000\" points=\"6007.8979,-53.6246 5997.3163,-53.095 6005.2581,-60.1078 6007.8979,-53.6246\"/>\n</g>\n<!-- 52 -->\n<g id=\"node53\" class=\"node\">\n<title>52</title>\n<polygon fill=\"none\" stroke=\"#000000\" points=\"6280,-53 6058,-53 6058,0 6280,0 6280,-53\"/>\n<text text-anchor=\"middle\" x=\"6169\" y=\"-37.8\" font-family=\"Times,serif\" font-size=\"14.00\" fill=\"#000000\">entropy = 0.884</text>\n<text text-anchor=\"middle\" x=\"6169\" y=\"-22.8\" font-family=\"Times,serif\" font-size=\"14.00\" fill=\"#000000\">samples = 20</text>\n<text text-anchor=\"middle\" x=\"6169\" y=\"-7.8\" font-family=\"Times,serif\" font-size=\"14.00\" fill=\"#000000\">value = [0, 0, 0, 1, 0, 3, 0, 0, 0, 16]</text>\n</g>\n<!-- 50&#45;&gt;52 -->\n<g id=\"edge52\" class=\"edge\">\n<title>50&#45;&gt;52</title>\n<path fill=\"none\" stroke=\"#000000\" d=\"M6169,-88.9777C6169,-80.7364 6169,-71.887 6169,-63.5153\"/>\n<polygon fill=\"#000000\" stroke=\"#000000\" points=\"6172.5001,-63.2484 6169,-53.2485 6165.5001,-63.2485 6172.5001,-63.2484\"/>\n</g>\n<!-- 54 -->\n<g id=\"node55\" class=\"node\">\n<title>54</title>\n<polygon fill=\"none\" stroke=\"#000000\" points=\"6520,-53 6298,-53 6298,0 6520,0 6520,-53\"/>\n<text text-anchor=\"middle\" x=\"6409\" y=\"-37.8\" font-family=\"Times,serif\" font-size=\"14.00\" fill=\"#000000\">entropy = 1.635</text>\n<text text-anchor=\"middle\" x=\"6409\" y=\"-22.8\" font-family=\"Times,serif\" font-size=\"14.00\" fill=\"#000000\">samples = 38</text>\n<text text-anchor=\"middle\" x=\"6409\" y=\"-7.8\" font-family=\"Times,serif\" font-size=\"14.00\" fill=\"#000000\">value = [0, 0, 1, 23, 0, 2, 5, 0, 7, 0]</text>\n</g>\n<!-- 53&#45;&gt;54 -->\n<g id=\"edge54\" class=\"edge\">\n<title>53&#45;&gt;54</title>\n<path fill=\"none\" stroke=\"#000000\" d=\"M6409,-88.9777C6409,-80.7364 6409,-71.887 6409,-63.5153\"/>\n<polygon fill=\"#000000\" stroke=\"#000000\" points=\"6412.5001,-63.2484 6409,-53.2485 6405.5001,-63.2485 6412.5001,-63.2484\"/>\n</g>\n<!-- 55 -->\n<g id=\"node56\" class=\"node\">\n<title>55</title>\n<polygon fill=\"none\" stroke=\"#000000\" points=\"6753.5,-53 6538.5,-53 6538.5,0 6753.5,0 6753.5,-53\"/>\n<text text-anchor=\"middle\" x=\"6646\" y=\"-37.8\" font-family=\"Times,serif\" font-size=\"14.00\" fill=\"#000000\">entropy = 1.357</text>\n<text text-anchor=\"middle\" x=\"6646\" y=\"-22.8\" font-family=\"Times,serif\" font-size=\"14.00\" fill=\"#000000\">samples = 10</text>\n<text text-anchor=\"middle\" x=\"6646\" y=\"-7.8\" font-family=\"Times,serif\" font-size=\"14.00\" fill=\"#000000\">value = [0, 1, 0, 0, 0, 0, 1, 0, 1, 7]</text>\n</g>\n<!-- 53&#45;&gt;55 -->\n<g id=\"edge55\" class=\"edge\">\n<title>53&#45;&gt;55</title>\n<path fill=\"none\" stroke=\"#000000\" d=\"M6492.5573,-88.9777C6518.2007,-78.5364 6546.2416,-67.1189 6571.2561,-56.9337\"/>\n<polygon fill=\"#000000\" stroke=\"#000000\" points=\"6572.7419,-60.1078 6580.6837,-53.095 6570.1021,-53.6246 6572.7419,-60.1078\"/>\n</g>\n<!-- 57 -->\n<g id=\"node58\" class=\"node\">\n<title>57</title>\n<polygon fill=\"none\" stroke=\"#000000\" points=\"7110,-157 6888,-157 6888,-89 7110,-89 7110,-157\"/>\n<text text-anchor=\"middle\" x=\"6999\" y=\"-141.8\" font-family=\"Times,serif\" font-size=\"14.00\" fill=\"#000000\">X[12] &lt;= 14.5</text>\n<text text-anchor=\"middle\" x=\"6999\" y=\"-126.8\" font-family=\"Times,serif\" font-size=\"14.00\" fill=\"#000000\">entropy = 0.678</text>\n<text text-anchor=\"middle\" x=\"6999\" y=\"-111.8\" font-family=\"Times,serif\" font-size=\"14.00\" fill=\"#000000\">samples = 102</text>\n<text text-anchor=\"middle\" x=\"6999\" y=\"-96.8\" font-family=\"Times,serif\" font-size=\"14.00\" fill=\"#000000\">value = [5, 0, 0, 0, 6, 1, 90, 0, 0, 0]</text>\n</g>\n<!-- 56&#45;&gt;57 -->\n<g id=\"edge57\" class=\"edge\">\n<title>56&#45;&gt;57</title>\n<path fill=\"none\" stroke=\"#000000\" d=\"M6999,-192.9465C6999,-184.776 6999,-175.9318 6999,-167.3697\"/>\n<polygon fill=\"#000000\" stroke=\"#000000\" points=\"7002.5001,-167.13 6999,-157.13 6995.5001,-167.13 7002.5001,-167.13\"/>\n</g>\n<!-- 60 -->\n<g id=\"node61\" class=\"node\">\n<title>60</title>\n<polygon fill=\"none\" stroke=\"#000000\" points=\"7460.5,-157 7245.5,-157 7245.5,-89 7460.5,-89 7460.5,-157\"/>\n<text text-anchor=\"middle\" x=\"7353\" y=\"-141.8\" font-family=\"Times,serif\" font-size=\"14.00\" fill=\"#000000\">X[51] &lt;= 9.5</text>\n<text text-anchor=\"middle\" x=\"7353\" y=\"-126.8\" font-family=\"Times,serif\" font-size=\"14.00\" fill=\"#000000\">entropy = 1.966</text>\n<text text-anchor=\"middle\" x=\"7353\" y=\"-111.8\" font-family=\"Times,serif\" font-size=\"14.00\" fill=\"#000000\">samples = 15</text>\n<text text-anchor=\"middle\" x=\"7353\" y=\"-96.8\" font-family=\"Times,serif\" font-size=\"14.00\" fill=\"#000000\">value = [0, 0, 0, 0, 0, 5, 3, 0, 4, 3]</text>\n</g>\n<!-- 56&#45;&gt;60 -->\n<g id=\"edge60\" class=\"edge\">\n<title>56&#45;&gt;60</title>\n<path fill=\"none\" stroke=\"#000000\" d=\"M7110.0365,-194.3791C7150.0204,-182.6324 7195.2449,-169.3461 7235.7424,-157.4486\"/>\n<polygon fill=\"#000000\" stroke=\"#000000\" points=\"7236.7781,-160.7923 7245.386,-154.6154 7234.8049,-154.0761 7236.7781,-160.7923\"/>\n</g>\n<!-- 58 -->\n<g id=\"node59\" class=\"node\">\n<title>58</title>\n<polygon fill=\"none\" stroke=\"#000000\" points=\"6994,-53 6772,-53 6772,0 6994,0 6994,-53\"/>\n<text text-anchor=\"middle\" x=\"6883\" y=\"-37.8\" font-family=\"Times,serif\" font-size=\"14.00\" fill=\"#000000\">entropy = 0.378</text>\n<text text-anchor=\"middle\" x=\"6883\" y=\"-22.8\" font-family=\"Times,serif\" font-size=\"14.00\" fill=\"#000000\">samples = 95</text>\n<text text-anchor=\"middle\" x=\"6883\" y=\"-7.8\" font-family=\"Times,serif\" font-size=\"14.00\" fill=\"#000000\">value = [2, 0, 0, 0, 2, 1, 90, 0, 0, 0]</text>\n</g>\n<!-- 57&#45;&gt;58 -->\n<g id=\"edge58\" class=\"edge\">\n<title>57&#45;&gt;58</title>\n<path fill=\"none\" stroke=\"#000000\" d=\"M6958.1027,-88.9777C6946.6551,-79.4545 6934.2313,-69.1191 6922.8455,-59.6473\"/>\n<polygon fill=\"#000000\" stroke=\"#000000\" points=\"6925.0797,-56.9532 6915.1536,-53.2485 6920.6029,-62.3345 6925.0797,-56.9532\"/>\n</g>\n<!-- 59 -->\n<g id=\"node60\" class=\"node\">\n<title>59</title>\n<polygon fill=\"none\" stroke=\"#000000\" points=\"7227.5,-53 7012.5,-53 7012.5,0 7227.5,0 7227.5,-53\"/>\n<text text-anchor=\"middle\" x=\"7120\" y=\"-37.8\" font-family=\"Times,serif\" font-size=\"14.00\" fill=\"#000000\">entropy = 0.985</text>\n<text text-anchor=\"middle\" x=\"7120\" y=\"-22.8\" font-family=\"Times,serif\" font-size=\"14.00\" fill=\"#000000\">samples = 7</text>\n<text text-anchor=\"middle\" x=\"7120\" y=\"-7.8\" font-family=\"Times,serif\" font-size=\"14.00\" fill=\"#000000\">value = [3, 0, 0, 0, 4, 0, 0, 0, 0, 0]</text>\n</g>\n<!-- 57&#45;&gt;59 -->\n<g id=\"edge59\" class=\"edge\">\n<title>57&#45;&gt;59</title>\n<path fill=\"none\" stroke=\"#000000\" d=\"M7041.6601,-88.9777C7053.6011,-79.4545 7066.5605,-69.1191 7078.437,-59.6473\"/>\n<polygon fill=\"#000000\" stroke=\"#000000\" points=\"7080.8246,-62.22 7086.4605,-53.2485 7076.46,-56.7473 7080.8246,-62.22\"/>\n</g>\n<!-- 61 -->\n<g id=\"node62\" class=\"node\">\n<title>61</title>\n<polygon fill=\"none\" stroke=\"#000000\" points=\"7460.5,-53 7245.5,-53 7245.5,0 7460.5,0 7460.5,-53\"/>\n<text text-anchor=\"middle\" x=\"7353\" y=\"-37.8\" font-family=\"Times,serif\" font-size=\"14.00\" fill=\"#000000\">entropy = 1.352</text>\n<text text-anchor=\"middle\" x=\"7353\" y=\"-22.8\" font-family=\"Times,serif\" font-size=\"14.00\" fill=\"#000000\">samples = 9</text>\n<text text-anchor=\"middle\" x=\"7353\" y=\"-7.8\" font-family=\"Times,serif\" font-size=\"14.00\" fill=\"#000000\">value = [0, 0, 0, 0, 0, 5, 0, 0, 1, 3]</text>\n</g>\n<!-- 60&#45;&gt;61 -->\n<g id=\"edge61\" class=\"edge\">\n<title>60&#45;&gt;61</title>\n<path fill=\"none\" stroke=\"#000000\" d=\"M7353,-88.9777C7353,-80.7364 7353,-71.887 7353,-63.5153\"/>\n<polygon fill=\"#000000\" stroke=\"#000000\" points=\"7356.5001,-63.2484 7353,-53.2485 7349.5001,-63.2485 7356.5001,-63.2484\"/>\n</g>\n<!-- 62 -->\n<g id=\"node63\" class=\"node\">\n<title>62</title>\n<polygon fill=\"none\" stroke=\"#000000\" points=\"7693.5,-53 7478.5,-53 7478.5,0 7693.5,0 7693.5,-53\"/>\n<text text-anchor=\"middle\" x=\"7586\" y=\"-37.8\" font-family=\"Times,serif\" font-size=\"14.00\" fill=\"#000000\">entropy = 1.0</text>\n<text text-anchor=\"middle\" x=\"7586\" y=\"-22.8\" font-family=\"Times,serif\" font-size=\"14.00\" fill=\"#000000\">samples = 6</text>\n<text text-anchor=\"middle\" x=\"7586\" y=\"-7.8\" font-family=\"Times,serif\" font-size=\"14.00\" fill=\"#000000\">value = [0, 0, 0, 0, 0, 0, 3, 0, 3, 0]</text>\n</g>\n<!-- 60&#45;&gt;62 -->\n<g id=\"edge62\" class=\"edge\">\n<title>60&#45;&gt;62</title>\n<path fill=\"none\" stroke=\"#000000\" d=\"M7435.1471,-88.9777C7460.3576,-78.5364 7487.9253,-67.1189 7512.5176,-56.9337\"/>\n<polygon fill=\"#000000\" stroke=\"#000000\" points=\"7513.8864,-60.1552 7521.7861,-53.095 7511.2079,-53.6879 7513.8864,-60.1552\"/>\n</g>\n</g>\n</svg>\n"
          },
          "metadata": {
            "tags": []
          },
          "execution_count": 63
        }
      ]
    },
    {
      "cell_type": "code",
      "metadata": {
        "id": "BU0Um2z1H5NB"
      },
      "source": [],
      "execution_count": null,
      "outputs": []
    }
  ]
}